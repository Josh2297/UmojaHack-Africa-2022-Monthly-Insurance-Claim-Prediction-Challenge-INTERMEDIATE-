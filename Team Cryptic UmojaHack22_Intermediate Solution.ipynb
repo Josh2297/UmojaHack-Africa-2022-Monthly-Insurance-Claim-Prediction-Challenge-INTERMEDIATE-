{
 "cells": [
  {
   "cell_type": "markdown",
   "id": "d55a6da9",
   "metadata": {},
   "source": [
    "# Umoja Hack Intermediate Hackathon 2022"
   ]
  },
  {
   "cell_type": "markdown",
   "id": "2473ae31",
   "metadata": {},
   "source": [
    "## Platform: Zindi Africa"
   ]
  },
  {
   "cell_type": "markdown",
   "id": "4182259c",
   "metadata": {},
   "source": [
    "### Team Cryptic"
   ]
  },
  {
   "cell_type": "code",
   "execution_count": null,
   "id": "933304d1",
   "metadata": {},
   "outputs": [],
   "source": []
  },
  {
   "cell_type": "code",
   "execution_count": 1,
   "id": "681b9e2e",
   "metadata": {},
   "outputs": [],
   "source": [
    "import numpy as np;import pandas as pd\n",
    "import matplotlib.pyplot as plt\n",
    "%matplotlib inline\n",
    "import seaborn as sns\n",
    "from sklearn.preprocessing import StandardScaler,PowerTransformer\n",
    "from sklearn.model_selection import cross_val_predict\n",
    "from sklearn.metrics import mean_squared_error,r2_score,mean_absolute_error\n",
    "from sklearn.linear_model import LinearRegression\n",
    "from sklearn.ensemble import RandomForestRegressor,GradientBoostingRegressor,VotingRegressor\n",
    "import xgboost as xgb\n",
    "from xgboost.sklearn import XGBRegressor\n",
    "from bayes_opt import BayesianOptimization"
   ]
  },
  {
   "cell_type": "code",
   "execution_count": 2,
   "id": "ec637651",
   "metadata": {},
   "outputs": [
    {
     "data": {
      "text/plain": [
       "(9376, 15)"
      ]
     },
     "execution_count": 2,
     "metadata": {},
     "output_type": "execute_result"
    }
   ],
   "source": [
    "train_data=pd.read_csv(r\"C:\\Users\\DELL\\Documents\\UmojaHack2022\\train.csv\")\n",
    "test_data=pd.read_csv(r\"C:\\Users\\DELL\\Documents\\UmojaHack2022\\test.csv\")\n",
    "policy=pd.read_csv(r\"C:\\Users\\DELL\\Documents\\UmojaHack2022\\policies.csv\")\n",
    "datadict=pd.read_csv(r\"C:\\Users\\DELL\\Documents\\UmojaHack2022\\DataDictionary.csv\")\n",
    "sample_sub=pd.read_csv(r\"C:\\Users\\DELL\\Documents\\UmojaHack2022\\SampleSubmission.csv\")\n",
    "train_data.shape"
   ]
  },
  {
   "cell_type": "code",
   "execution_count": 3,
   "id": "bdcdd2a1",
   "metadata": {
    "scrolled": true
   },
   "outputs": [
    {
     "data": {
      "text/html": [
       "<div>\n",
       "<style scoped>\n",
       "    .dataframe tbody tr th:only-of-type {\n",
       "        vertical-align: middle;\n",
       "    }\n",
       "\n",
       "    .dataframe tbody tr th {\n",
       "        vertical-align: top;\n",
       "    }\n",
       "\n",
       "    .dataframe thead th {\n",
       "        text-align: right;\n",
       "    }\n",
       "</style>\n",
       "<table border=\"1\" class=\"dataframe\">\n",
       "  <thead>\n",
       "    <tr style=\"text-align: right;\">\n",
       "      <th></th>\n",
       "      <th>claim_id</th>\n",
       "      <th>policy_number</th>\n",
       "      <th>claim_number</th>\n",
       "      <th>sum_insured</th>\n",
       "      <th>product</th>\n",
       "      <th>agent</th>\n",
       "      <th>class_of_business</th>\n",
       "      <th>risk_type</th>\n",
       "      <th>loss_date</th>\n",
       "      <th>client_type</th>\n",
       "      <th>renewal_frequency</th>\n",
       "      <th>primary_cause</th>\n",
       "      <th>secondary_cause</th>\n",
       "      <th>branch</th>\n",
       "      <th>target</th>\n",
       "    </tr>\n",
       "  </thead>\n",
       "  <tbody>\n",
       "    <tr>\n",
       "      <th>0</th>\n",
       "      <td>ID_JZ7QWRHH57RO</td>\n",
       "      <td>pol000009680</td>\n",
       "      <td>claim0011359</td>\n",
       "      <td>300000.0</td>\n",
       "      <td>prod00027</td>\n",
       "      <td>ag00068</td>\n",
       "      <td>cob00031</td>\n",
       "      <td>rt00006</td>\n",
       "      <td>2021-05-13</td>\n",
       "      <td>ct0003</td>\n",
       "      <td>rf0001</td>\n",
       "      <td>pc0007</td>\n",
       "      <td>sc00022</td>\n",
       "      <td>br00006</td>\n",
       "      <td>82150.00</td>\n",
       "    </tr>\n",
       "    <tr>\n",
       "      <th>1</th>\n",
       "      <td>ID_KQ5TJMVLJ4EP</td>\n",
       "      <td>pol000006869</td>\n",
       "      <td>claim0005272</td>\n",
       "      <td>16000.0</td>\n",
       "      <td>prod00005</td>\n",
       "      <td>ag00226</td>\n",
       "      <td>cob00010</td>\n",
       "      <td>rt00032</td>\n",
       "      <td>2018-05-13</td>\n",
       "      <td>ct0003</td>\n",
       "      <td>rf0001</td>\n",
       "      <td>pc0007</td>\n",
       "      <td>sc00023</td>\n",
       "      <td>br00002</td>\n",
       "      <td>3780.24</td>\n",
       "    </tr>\n",
       "    <tr>\n",
       "      <th>2</th>\n",
       "      <td>ID_NYHI7WJGGIAE</td>\n",
       "      <td>pol000006135</td>\n",
       "      <td>claim0004147</td>\n",
       "      <td>3000.0</td>\n",
       "      <td>prod00029</td>\n",
       "      <td>ag00037</td>\n",
       "      <td>cob00010</td>\n",
       "      <td>rt00026</td>\n",
       "      <td>2018-08-18</td>\n",
       "      <td>ct0003</td>\n",
       "      <td>rf0001</td>\n",
       "      <td>pc0007</td>\n",
       "      <td>sc00024</td>\n",
       "      <td>br00002</td>\n",
       "      <td>2196.50</td>\n",
       "    </tr>\n",
       "    <tr>\n",
       "      <th>3</th>\n",
       "      <td>ID_ROMMDCXYUXN5</td>\n",
       "      <td>pol000008991</td>\n",
       "      <td>claim0009962</td>\n",
       "      <td>6000.0</td>\n",
       "      <td>prod00005</td>\n",
       "      <td>ag00037</td>\n",
       "      <td>cob00009</td>\n",
       "      <td>rt00032</td>\n",
       "      <td>2018-12-20</td>\n",
       "      <td>ct0003</td>\n",
       "      <td>rf0001</td>\n",
       "      <td>pc0007</td>\n",
       "      <td>sc00021</td>\n",
       "      <td>br00001</td>\n",
       "      <td>105.67</td>\n",
       "    </tr>\n",
       "    <tr>\n",
       "      <th>4</th>\n",
       "      <td>ID_2OTD9NX8L73D</td>\n",
       "      <td>pol000007768</td>\n",
       "      <td>claim0007346</td>\n",
       "      <td>26850.0</td>\n",
       "      <td>prod00015</td>\n",
       "      <td>ag00226</td>\n",
       "      <td>cob00034</td>\n",
       "      <td>rt00023</td>\n",
       "      <td>2018-11-07</td>\n",
       "      <td>ct0001</td>\n",
       "      <td>rf0001</td>\n",
       "      <td>pc0007</td>\n",
       "      <td>sc00021</td>\n",
       "      <td>br00001</td>\n",
       "      <td>1605.64</td>\n",
       "    </tr>\n",
       "  </tbody>\n",
       "</table>\n",
       "</div>"
      ],
      "text/plain": [
       "          claim_id policy_number  claim_number  sum_insured    product  \\\n",
       "0  ID_JZ7QWRHH57RO  pol000009680  claim0011359     300000.0  prod00027   \n",
       "1  ID_KQ5TJMVLJ4EP  pol000006869  claim0005272      16000.0  prod00005   \n",
       "2  ID_NYHI7WJGGIAE  pol000006135  claim0004147       3000.0  prod00029   \n",
       "3  ID_ROMMDCXYUXN5  pol000008991  claim0009962       6000.0  prod00005   \n",
       "4  ID_2OTD9NX8L73D  pol000007768  claim0007346      26850.0  prod00015   \n",
       "\n",
       "     agent class_of_business risk_type   loss_date client_type  \\\n",
       "0  ag00068          cob00031   rt00006  2021-05-13      ct0003   \n",
       "1  ag00226          cob00010   rt00032  2018-05-13      ct0003   \n",
       "2  ag00037          cob00010   rt00026  2018-08-18      ct0003   \n",
       "3  ag00037          cob00009   rt00032  2018-12-20      ct0003   \n",
       "4  ag00226          cob00034   rt00023  2018-11-07      ct0001   \n",
       "\n",
       "  renewal_frequency primary_cause secondary_cause   branch    target  \n",
       "0            rf0001        pc0007         sc00022  br00006  82150.00  \n",
       "1            rf0001        pc0007         sc00023  br00002   3780.24  \n",
       "2            rf0001        pc0007         sc00024  br00002   2196.50  \n",
       "3            rf0001        pc0007         sc00021  br00001    105.67  \n",
       "4            rf0001        pc0007         sc00021  br00001   1605.64  "
      ]
     },
     "execution_count": 3,
     "metadata": {},
     "output_type": "execute_result"
    }
   ],
   "source": [
    "train_data.head(5)"
   ]
  },
  {
   "cell_type": "code",
   "execution_count": 4,
   "id": "1cb90bdd",
   "metadata": {},
   "outputs": [],
   "source": [
    "# Assigning Targets and Id's\n",
    "y_train=train_data.target\n",
    "test_id=test_data.claim_id\n"
   ]
  },
  {
   "cell_type": "code",
   "execution_count": 5,
   "id": "0fbe13b2",
   "metadata": {},
   "outputs": [
    {
     "data": {
      "text/plain": [
       "(13395, 14)"
      ]
     },
     "execution_count": 5,
     "metadata": {},
     "output_type": "execute_result"
    }
   ],
   "source": [
    "# Add Train and test data\n",
    "data=train_data.drop('target',axis=1).append(test_data,ignore_index=True)\n",
    "data.shape"
   ]
  },
  {
   "cell_type": "code",
   "execution_count": 6,
   "id": "15f046c5",
   "metadata": {},
   "outputs": [
    {
     "data": {
      "text/plain": [
       "claim_id               0\n",
       "policy_number        127\n",
       "claim_number           0\n",
       "sum_insured            0\n",
       "product                0\n",
       "agent                  0\n",
       "class_of_business      0\n",
       "risk_type              0\n",
       "loss_date              0\n",
       "client_type            0\n",
       "renewal_frequency      0\n",
       "primary_cause          0\n",
       "secondary_cause        0\n",
       "branch                 0\n",
       "dtype: int64"
      ]
     },
     "execution_count": 6,
     "metadata": {},
     "output_type": "execute_result"
    }
   ],
   "source": [
    "data.isnull().sum()"
   ]
  },
  {
   "cell_type": "code",
   "execution_count": 7,
   "id": "c130fa6d",
   "metadata": {},
   "outputs": [
    {
     "data": {
      "text/plain": [
       "claim_id              0\n",
       "policy_number        41\n",
       "claim_number          0\n",
       "sum_insured           0\n",
       "product               0\n",
       "agent                 0\n",
       "class_of_business     0\n",
       "risk_type             0\n",
       "loss_date             0\n",
       "client_type           0\n",
       "renewal_frequency     0\n",
       "primary_cause         0\n",
       "secondary_cause       0\n",
       "branch                0\n",
       "dtype: int64"
      ]
     },
     "execution_count": 7,
     "metadata": {},
     "output_type": "execute_result"
    }
   ],
   "source": [
    "test_data.isnull().sum()"
   ]
  },
  {
   "cell_type": "markdown",
   "id": "528c50a0",
   "metadata": {},
   "source": [
    "#### Policy Data"
   ]
  },
  {
   "cell_type": "code",
   "execution_count": 8,
   "id": "a2a4839c",
   "metadata": {},
   "outputs": [
    {
     "name": "stdout",
     "output_type": "stream",
     "text": [
      "Policy Data Shape: (30371, 10)\n"
     ]
    },
    {
     "data": {
      "text/html": [
       "<div>\n",
       "<style scoped>\n",
       "    .dataframe tbody tr th:only-of-type {\n",
       "        vertical-align: middle;\n",
       "    }\n",
       "\n",
       "    .dataframe tbody tr th {\n",
       "        vertical-align: top;\n",
       "    }\n",
       "\n",
       "    .dataframe thead th {\n",
       "        text-align: right;\n",
       "    }\n",
       "</style>\n",
       "<table border=\"1\" class=\"dataframe\">\n",
       "  <thead>\n",
       "    <tr style=\"text-align: right;\">\n",
       "      <th></th>\n",
       "      <th>policy_number</th>\n",
       "      <th>product_code</th>\n",
       "      <th>trans_date</th>\n",
       "      <th>from_date</th>\n",
       "      <th>to_date</th>\n",
       "      <th>agent</th>\n",
       "      <th>class_of_business</th>\n",
       "      <th>client_type</th>\n",
       "      <th>renewal_frequency</th>\n",
       "      <th>branch</th>\n",
       "    </tr>\n",
       "  </thead>\n",
       "  <tbody>\n",
       "    <tr>\n",
       "      <th>0</th>\n",
       "      <td>pol000006995</td>\n",
       "      <td>prod00033</td>\n",
       "      <td>2017-07-01 08:24:55.800</td>\n",
       "      <td>2017-07-01 00:00:00.000</td>\n",
       "      <td>2018-07-01 00:00:00.000</td>\n",
       "      <td>ag00005</td>\n",
       "      <td>cob00035</td>\n",
       "      <td>ct0001</td>\n",
       "      <td>rf0002</td>\n",
       "      <td>br00002</td>\n",
       "    </tr>\n",
       "    <tr>\n",
       "      <th>1</th>\n",
       "      <td>pol000009828</td>\n",
       "      <td>prod00005</td>\n",
       "      <td>2017-07-01 09:04:02.217</td>\n",
       "      <td>2017-07-03 00:00:00.000</td>\n",
       "      <td>2017-11-02 00:00:00.000</td>\n",
       "      <td>ag00226</td>\n",
       "      <td>cob00009</td>\n",
       "      <td>ct0003</td>\n",
       "      <td>rf0001</td>\n",
       "      <td>br00006</td>\n",
       "    </tr>\n",
       "    <tr>\n",
       "      <th>2</th>\n",
       "      <td>pol000009828</td>\n",
       "      <td>prod00005</td>\n",
       "      <td>2017-07-01 09:04:02.217</td>\n",
       "      <td>2017-07-03 00:00:00.000</td>\n",
       "      <td>2017-11-02 00:00:00.000</td>\n",
       "      <td>ag00226</td>\n",
       "      <td>cob00031</td>\n",
       "      <td>ct0003</td>\n",
       "      <td>rf0001</td>\n",
       "      <td>br00006</td>\n",
       "    </tr>\n",
       "    <tr>\n",
       "      <th>3</th>\n",
       "      <td>pol000007729</td>\n",
       "      <td>prod00005</td>\n",
       "      <td>2017-07-01 09:36:53.843</td>\n",
       "      <td>2017-07-01 00:00:00.000</td>\n",
       "      <td>2017-10-31 00:00:00.000</td>\n",
       "      <td>ag00005</td>\n",
       "      <td>cob00031</td>\n",
       "      <td>ct0003</td>\n",
       "      <td>rf0001</td>\n",
       "      <td>br00002</td>\n",
       "    </tr>\n",
       "    <tr>\n",
       "      <th>4</th>\n",
       "      <td>pol000007729</td>\n",
       "      <td>prod00005</td>\n",
       "      <td>2017-07-01 09:36:53.843</td>\n",
       "      <td>2017-07-01 00:00:00.000</td>\n",
       "      <td>2017-10-31 00:00:00.000</td>\n",
       "      <td>ag00005</td>\n",
       "      <td>cob00009</td>\n",
       "      <td>ct0003</td>\n",
       "      <td>rf0001</td>\n",
       "      <td>br00002</td>\n",
       "    </tr>\n",
       "  </tbody>\n",
       "</table>\n",
       "</div>"
      ],
      "text/plain": [
       "  policy_number product_code               trans_date  \\\n",
       "0  pol000006995    prod00033  2017-07-01 08:24:55.800   \n",
       "1  pol000009828    prod00005  2017-07-01 09:04:02.217   \n",
       "2  pol000009828    prod00005  2017-07-01 09:04:02.217   \n",
       "3  pol000007729    prod00005  2017-07-01 09:36:53.843   \n",
       "4  pol000007729    prod00005  2017-07-01 09:36:53.843   \n",
       "\n",
       "                 from_date                  to_date    agent  \\\n",
       "0  2017-07-01 00:00:00.000  2018-07-01 00:00:00.000  ag00005   \n",
       "1  2017-07-03 00:00:00.000  2017-11-02 00:00:00.000  ag00226   \n",
       "2  2017-07-03 00:00:00.000  2017-11-02 00:00:00.000  ag00226   \n",
       "3  2017-07-01 00:00:00.000  2017-10-31 00:00:00.000  ag00005   \n",
       "4  2017-07-01 00:00:00.000  2017-10-31 00:00:00.000  ag00005   \n",
       "\n",
       "  class_of_business client_type renewal_frequency   branch  \n",
       "0          cob00035      ct0001            rf0002  br00002  \n",
       "1          cob00009      ct0003            rf0001  br00006  \n",
       "2          cob00031      ct0003            rf0001  br00006  \n",
       "3          cob00031      ct0003            rf0001  br00002  \n",
       "4          cob00009      ct0003            rf0001  br00002  "
      ]
     },
     "execution_count": 8,
     "metadata": {},
     "output_type": "execute_result"
    }
   ],
   "source": [
    "print('Policy Data Shape: {}'.format(policy.shape))\n",
    "policy.head(5)"
   ]
  },
  {
   "cell_type": "code",
   "execution_count": 9,
   "id": "bfd2633e",
   "metadata": {},
   "outputs": [
    {
     "name": "stdout",
     "output_type": "stream",
     "text": [
      "Number of Duplicated Policies: 0\n"
     ]
    }
   ],
   "source": [
    "# Duplicated Policy data\n",
    "print('Number of Duplicated Policies: {}'.format(policy.duplicated().sum()))"
   ]
  },
  {
   "cell_type": "code",
   "execution_count": 10,
   "id": "ca4960f3",
   "metadata": {},
   "outputs": [
    {
     "data": {
      "text/plain": [
       "25154"
      ]
     },
     "execution_count": 10,
     "metadata": {},
     "output_type": "execute_result"
    }
   ],
   "source": [
    "# Duplicated Policy ID's\n",
    "policy.policy_number.duplicated().sum()"
   ]
  },
  {
   "cell_type": "code",
   "execution_count": 11,
   "id": "a6ebba57",
   "metadata": {},
   "outputs": [
    {
     "data": {
      "text/html": [
       "<div>\n",
       "<style scoped>\n",
       "    .dataframe tbody tr th:only-of-type {\n",
       "        vertical-align: middle;\n",
       "    }\n",
       "\n",
       "    .dataframe tbody tr th {\n",
       "        vertical-align: top;\n",
       "    }\n",
       "\n",
       "    .dataframe thead th {\n",
       "        text-align: right;\n",
       "    }\n",
       "</style>\n",
       "<table border=\"1\" class=\"dataframe\">\n",
       "  <thead>\n",
       "    <tr style=\"text-align: right;\">\n",
       "      <th></th>\n",
       "      <th>policy_number</th>\n",
       "      <th>product_code</th>\n",
       "      <th>trans_date</th>\n",
       "      <th>from_date</th>\n",
       "      <th>to_date</th>\n",
       "      <th>agent</th>\n",
       "      <th>class_of_business</th>\n",
       "      <th>client_type</th>\n",
       "      <th>renewal_frequency</th>\n",
       "      <th>branch</th>\n",
       "    </tr>\n",
       "  </thead>\n",
       "  <tbody>\n",
       "    <tr>\n",
       "      <th>3859</th>\n",
       "      <td>pol000005951</td>\n",
       "      <td>prod00015</td>\n",
       "      <td>2018-01-12 16:04:44.230</td>\n",
       "      <td>2018-01-01 00:00:00.000</td>\n",
       "      <td>2018-12-31 00:00:00.000</td>\n",
       "      <td>ag00004</td>\n",
       "      <td>cob00034</td>\n",
       "      <td>ct0001</td>\n",
       "      <td>rf0002</td>\n",
       "      <td>br00002</td>\n",
       "    </tr>\n",
       "    <tr>\n",
       "      <th>4398</th>\n",
       "      <td>pol000005951</td>\n",
       "      <td>prod00015</td>\n",
       "      <td>2018-01-23 11:58:28.890</td>\n",
       "      <td>2018-01-12 00:00:00.000</td>\n",
       "      <td>2018-12-31 00:00:00.000</td>\n",
       "      <td>ag00004</td>\n",
       "      <td>cob00034</td>\n",
       "      <td>ct0001</td>\n",
       "      <td>rf0002</td>\n",
       "      <td>br00002</td>\n",
       "    </tr>\n",
       "    <tr>\n",
       "      <th>4399</th>\n",
       "      <td>pol000005951</td>\n",
       "      <td>prod00015</td>\n",
       "      <td>2018-01-23 12:10:43.130</td>\n",
       "      <td>2018-01-15 00:00:00.000</td>\n",
       "      <td>2018-12-31 00:00:00.000</td>\n",
       "      <td>ag00004</td>\n",
       "      <td>cob00034</td>\n",
       "      <td>ct0001</td>\n",
       "      <td>rf0002</td>\n",
       "      <td>br00002</td>\n",
       "    </tr>\n",
       "    <tr>\n",
       "      <th>4423</th>\n",
       "      <td>pol000005951</td>\n",
       "      <td>prod00015</td>\n",
       "      <td>2018-01-23 17:08:08.783</td>\n",
       "      <td>2018-01-17 00:00:00.000</td>\n",
       "      <td>2018-12-31 00:00:00.000</td>\n",
       "      <td>ag00004</td>\n",
       "      <td>cob00034</td>\n",
       "      <td>ct0001</td>\n",
       "      <td>rf0002</td>\n",
       "      <td>br00002</td>\n",
       "    </tr>\n",
       "    <tr>\n",
       "      <th>5435</th>\n",
       "      <td>pol000005951</td>\n",
       "      <td>prod00015</td>\n",
       "      <td>2018-02-13 15:50:41.227</td>\n",
       "      <td>2018-01-25 00:00:00.000</td>\n",
       "      <td>2018-12-31 00:00:00.000</td>\n",
       "      <td>ag00004</td>\n",
       "      <td>cob00034</td>\n",
       "      <td>ct0001</td>\n",
       "      <td>rf0002</td>\n",
       "      <td>br00002</td>\n",
       "    </tr>\n",
       "    <tr>\n",
       "      <th>...</th>\n",
       "      <td>...</td>\n",
       "      <td>...</td>\n",
       "      <td>...</td>\n",
       "      <td>...</td>\n",
       "      <td>...</td>\n",
       "      <td>...</td>\n",
       "      <td>...</td>\n",
       "      <td>...</td>\n",
       "      <td>...</td>\n",
       "      <td>...</td>\n",
       "    </tr>\n",
       "    <tr>\n",
       "      <th>30068</th>\n",
       "      <td>pol000005951</td>\n",
       "      <td>prod00015</td>\n",
       "      <td>2021-10-11 16:41:27.347</td>\n",
       "      <td>2021-05-01 00:00:00.000</td>\n",
       "      <td>2021-12-31 00:00:00.000</td>\n",
       "      <td>ag00004</td>\n",
       "      <td>cob00034</td>\n",
       "      <td>ct0001</td>\n",
       "      <td>rf0002</td>\n",
       "      <td>br00002</td>\n",
       "    </tr>\n",
       "    <tr>\n",
       "      <th>30164</th>\n",
       "      <td>pol000005951</td>\n",
       "      <td>prod00015</td>\n",
       "      <td>2021-10-18 12:21:48.937</td>\n",
       "      <td>2021-09-29 00:00:00.000</td>\n",
       "      <td>2021-12-31 00:00:00.000</td>\n",
       "      <td>ag00004</td>\n",
       "      <td>cob00034</td>\n",
       "      <td>ct0001</td>\n",
       "      <td>rf0002</td>\n",
       "      <td>br00002</td>\n",
       "    </tr>\n",
       "    <tr>\n",
       "      <th>30168</th>\n",
       "      <td>pol000005951</td>\n",
       "      <td>prod00015</td>\n",
       "      <td>2021-10-18 12:51:17.770</td>\n",
       "      <td>2021-10-01 00:00:00.000</td>\n",
       "      <td>2021-12-31 00:00:00.000</td>\n",
       "      <td>ag00004</td>\n",
       "      <td>cob00034</td>\n",
       "      <td>ct0001</td>\n",
       "      <td>rf0002</td>\n",
       "      <td>br00002</td>\n",
       "    </tr>\n",
       "    <tr>\n",
       "      <th>30170</th>\n",
       "      <td>pol000005951</td>\n",
       "      <td>prod00015</td>\n",
       "      <td>2021-10-18 14:25:11.497</td>\n",
       "      <td>2021-10-06 00:00:00.000</td>\n",
       "      <td>2021-12-31 00:00:00.000</td>\n",
       "      <td>ag00004</td>\n",
       "      <td>cob00034</td>\n",
       "      <td>ct0001</td>\n",
       "      <td>rf0002</td>\n",
       "      <td>br00002</td>\n",
       "    </tr>\n",
       "    <tr>\n",
       "      <th>30178</th>\n",
       "      <td>pol000005951</td>\n",
       "      <td>prod00015</td>\n",
       "      <td>2021-10-18 16:30:34.007</td>\n",
       "      <td>2021-10-12 00:00:00.000</td>\n",
       "      <td>2021-12-31 00:00:00.000</td>\n",
       "      <td>ag00004</td>\n",
       "      <td>cob00034</td>\n",
       "      <td>ct0001</td>\n",
       "      <td>rf0002</td>\n",
       "      <td>br00002</td>\n",
       "    </tr>\n",
       "  </tbody>\n",
       "</table>\n",
       "<p>174 rows × 10 columns</p>\n",
       "</div>"
      ],
      "text/plain": [
       "      policy_number product_code               trans_date  \\\n",
       "3859   pol000005951    prod00015  2018-01-12 16:04:44.230   \n",
       "4398   pol000005951    prod00015  2018-01-23 11:58:28.890   \n",
       "4399   pol000005951    prod00015  2018-01-23 12:10:43.130   \n",
       "4423   pol000005951    prod00015  2018-01-23 17:08:08.783   \n",
       "5435   pol000005951    prod00015  2018-02-13 15:50:41.227   \n",
       "...             ...          ...                      ...   \n",
       "30068  pol000005951    prod00015  2021-10-11 16:41:27.347   \n",
       "30164  pol000005951    prod00015  2021-10-18 12:21:48.937   \n",
       "30168  pol000005951    prod00015  2021-10-18 12:51:17.770   \n",
       "30170  pol000005951    prod00015  2021-10-18 14:25:11.497   \n",
       "30178  pol000005951    prod00015  2021-10-18 16:30:34.007   \n",
       "\n",
       "                     from_date                  to_date    agent  \\\n",
       "3859   2018-01-01 00:00:00.000  2018-12-31 00:00:00.000  ag00004   \n",
       "4398   2018-01-12 00:00:00.000  2018-12-31 00:00:00.000  ag00004   \n",
       "4399   2018-01-15 00:00:00.000  2018-12-31 00:00:00.000  ag00004   \n",
       "4423   2018-01-17 00:00:00.000  2018-12-31 00:00:00.000  ag00004   \n",
       "5435   2018-01-25 00:00:00.000  2018-12-31 00:00:00.000  ag00004   \n",
       "...                        ...                      ...      ...   \n",
       "30068  2021-05-01 00:00:00.000  2021-12-31 00:00:00.000  ag00004   \n",
       "30164  2021-09-29 00:00:00.000  2021-12-31 00:00:00.000  ag00004   \n",
       "30168  2021-10-01 00:00:00.000  2021-12-31 00:00:00.000  ag00004   \n",
       "30170  2021-10-06 00:00:00.000  2021-12-31 00:00:00.000  ag00004   \n",
       "30178  2021-10-12 00:00:00.000  2021-12-31 00:00:00.000  ag00004   \n",
       "\n",
       "      class_of_business client_type renewal_frequency   branch  \n",
       "3859           cob00034      ct0001            rf0002  br00002  \n",
       "4398           cob00034      ct0001            rf0002  br00002  \n",
       "4399           cob00034      ct0001            rf0002  br00002  \n",
       "4423           cob00034      ct0001            rf0002  br00002  \n",
       "5435           cob00034      ct0001            rf0002  br00002  \n",
       "...                 ...         ...               ...      ...  \n",
       "30068          cob00034      ct0001            rf0002  br00002  \n",
       "30164          cob00034      ct0001            rf0002  br00002  \n",
       "30168          cob00034      ct0001            rf0002  br00002  \n",
       "30170          cob00034      ct0001            rf0002  br00002  \n",
       "30178          cob00034      ct0001            rf0002  br00002  \n",
       "\n",
       "[174 rows x 10 columns]"
      ]
     },
     "execution_count": 11,
     "metadata": {},
     "output_type": "execute_result"
    }
   ],
   "source": [
    "policy[policy.policy_number.isin(['pol000005951'])]"
   ]
  },
  {
   "cell_type": "markdown",
   "id": "37f0687a",
   "metadata": {},
   "source": [
    "### Train and test Data"
   ]
  },
  {
   "cell_type": "code",
   "execution_count": 12,
   "id": "9470325a",
   "metadata": {},
   "outputs": [
    {
     "data": {
      "text/html": [
       "<div>\n",
       "<style scoped>\n",
       "    .dataframe tbody tr th:only-of-type {\n",
       "        vertical-align: middle;\n",
       "    }\n",
       "\n",
       "    .dataframe tbody tr th {\n",
       "        vertical-align: top;\n",
       "    }\n",
       "\n",
       "    .dataframe thead th {\n",
       "        text-align: right;\n",
       "    }\n",
       "</style>\n",
       "<table border=\"1\" class=\"dataframe\">\n",
       "  <thead>\n",
       "    <tr style=\"text-align: right;\">\n",
       "      <th></th>\n",
       "      <th>claim_id</th>\n",
       "      <th>policy_number</th>\n",
       "      <th>claim_number</th>\n",
       "      <th>sum_insured</th>\n",
       "      <th>product</th>\n",
       "      <th>agent</th>\n",
       "      <th>class_of_business</th>\n",
       "      <th>risk_type</th>\n",
       "      <th>loss_date</th>\n",
       "      <th>client_type</th>\n",
       "      <th>renewal_frequency</th>\n",
       "      <th>primary_cause</th>\n",
       "      <th>secondary_cause</th>\n",
       "      <th>branch</th>\n",
       "      <th>target</th>\n",
       "    </tr>\n",
       "  </thead>\n",
       "  <tbody>\n",
       "    <tr>\n",
       "      <th>0</th>\n",
       "      <td>ID_JZ7QWRHH57RO</td>\n",
       "      <td>pol000009680</td>\n",
       "      <td>claim0011359</td>\n",
       "      <td>300000.0</td>\n",
       "      <td>prod00027</td>\n",
       "      <td>ag00068</td>\n",
       "      <td>cob00031</td>\n",
       "      <td>rt00006</td>\n",
       "      <td>2021-05-13</td>\n",
       "      <td>ct0003</td>\n",
       "      <td>rf0001</td>\n",
       "      <td>pc0007</td>\n",
       "      <td>sc00022</td>\n",
       "      <td>br00006</td>\n",
       "      <td>82150.00</td>\n",
       "    </tr>\n",
       "    <tr>\n",
       "      <th>1</th>\n",
       "      <td>ID_KQ5TJMVLJ4EP</td>\n",
       "      <td>pol000006869</td>\n",
       "      <td>claim0005272</td>\n",
       "      <td>16000.0</td>\n",
       "      <td>prod00005</td>\n",
       "      <td>ag00226</td>\n",
       "      <td>cob00010</td>\n",
       "      <td>rt00032</td>\n",
       "      <td>2018-05-13</td>\n",
       "      <td>ct0003</td>\n",
       "      <td>rf0001</td>\n",
       "      <td>pc0007</td>\n",
       "      <td>sc00023</td>\n",
       "      <td>br00002</td>\n",
       "      <td>3780.24</td>\n",
       "    </tr>\n",
       "    <tr>\n",
       "      <th>2</th>\n",
       "      <td>ID_NYHI7WJGGIAE</td>\n",
       "      <td>pol000006135</td>\n",
       "      <td>claim0004147</td>\n",
       "      <td>3000.0</td>\n",
       "      <td>prod00029</td>\n",
       "      <td>ag00037</td>\n",
       "      <td>cob00010</td>\n",
       "      <td>rt00026</td>\n",
       "      <td>2018-08-18</td>\n",
       "      <td>ct0003</td>\n",
       "      <td>rf0001</td>\n",
       "      <td>pc0007</td>\n",
       "      <td>sc00024</td>\n",
       "      <td>br00002</td>\n",
       "      <td>2196.50</td>\n",
       "    </tr>\n",
       "    <tr>\n",
       "      <th>3</th>\n",
       "      <td>ID_ROMMDCXYUXN5</td>\n",
       "      <td>pol000008991</td>\n",
       "      <td>claim0009962</td>\n",
       "      <td>6000.0</td>\n",
       "      <td>prod00005</td>\n",
       "      <td>ag00037</td>\n",
       "      <td>cob00009</td>\n",
       "      <td>rt00032</td>\n",
       "      <td>2018-12-20</td>\n",
       "      <td>ct0003</td>\n",
       "      <td>rf0001</td>\n",
       "      <td>pc0007</td>\n",
       "      <td>sc00021</td>\n",
       "      <td>br00001</td>\n",
       "      <td>105.67</td>\n",
       "    </tr>\n",
       "    <tr>\n",
       "      <th>4</th>\n",
       "      <td>ID_2OTD9NX8L73D</td>\n",
       "      <td>pol000007768</td>\n",
       "      <td>claim0007346</td>\n",
       "      <td>26850.0</td>\n",
       "      <td>prod00015</td>\n",
       "      <td>ag00226</td>\n",
       "      <td>cob00034</td>\n",
       "      <td>rt00023</td>\n",
       "      <td>2018-11-07</td>\n",
       "      <td>ct0001</td>\n",
       "      <td>rf0001</td>\n",
       "      <td>pc0007</td>\n",
       "      <td>sc00021</td>\n",
       "      <td>br00001</td>\n",
       "      <td>1605.64</td>\n",
       "    </tr>\n",
       "  </tbody>\n",
       "</table>\n",
       "</div>"
      ],
      "text/plain": [
       "          claim_id policy_number  claim_number  sum_insured    product  \\\n",
       "0  ID_JZ7QWRHH57RO  pol000009680  claim0011359     300000.0  prod00027   \n",
       "1  ID_KQ5TJMVLJ4EP  pol000006869  claim0005272      16000.0  prod00005   \n",
       "2  ID_NYHI7WJGGIAE  pol000006135  claim0004147       3000.0  prod00029   \n",
       "3  ID_ROMMDCXYUXN5  pol000008991  claim0009962       6000.0  prod00005   \n",
       "4  ID_2OTD9NX8L73D  pol000007768  claim0007346      26850.0  prod00015   \n",
       "\n",
       "     agent class_of_business risk_type   loss_date client_type  \\\n",
       "0  ag00068          cob00031   rt00006  2021-05-13      ct0003   \n",
       "1  ag00226          cob00010   rt00032  2018-05-13      ct0003   \n",
       "2  ag00037          cob00010   rt00026  2018-08-18      ct0003   \n",
       "3  ag00037          cob00009   rt00032  2018-12-20      ct0003   \n",
       "4  ag00226          cob00034   rt00023  2018-11-07      ct0001   \n",
       "\n",
       "  renewal_frequency primary_cause secondary_cause   branch    target  \n",
       "0            rf0001        pc0007         sc00022  br00006  82150.00  \n",
       "1            rf0001        pc0007         sc00023  br00002   3780.24  \n",
       "2            rf0001        pc0007         sc00024  br00002   2196.50  \n",
       "3            rf0001        pc0007         sc00021  br00001    105.67  \n",
       "4            rf0001        pc0007         sc00021  br00001   1605.64  "
      ]
     },
     "execution_count": 12,
     "metadata": {},
     "output_type": "execute_result"
    }
   ],
   "source": [
    "train_data.head(5)"
   ]
  },
  {
   "cell_type": "code",
   "execution_count": 13,
   "id": "1cbf7f1a",
   "metadata": {},
   "outputs": [
    {
     "name": "stdout",
     "output_type": "stream",
     "text": [
      "Number of Duplicated Datapoints: 0\n"
     ]
    }
   ],
   "source": [
    "# Duplicated data\n",
    "print('Number of Duplicated Datapoints: {}'.format(data.duplicated().sum()))"
   ]
  },
  {
   "cell_type": "code",
   "execution_count": 14,
   "id": "34513f33",
   "metadata": {},
   "outputs": [
    {
     "data": {
      "text/plain": [
       "pol000006026    369\n",
       "pol000007844    170\n",
       "pol000007723    168\n",
       "pol000005951    150\n",
       "pol000005960    146\n",
       "               ... \n",
       "pol000008626      1\n",
       "pol000005705      1\n",
       "pol000010880      1\n",
       "pol000009086      1\n",
       "pol000006923      1\n",
       "Name: policy_number, Length: 5217, dtype: int64"
      ]
     },
     "execution_count": 14,
     "metadata": {},
     "output_type": "execute_result"
    }
   ],
   "source": [
    "data.policy_number.value_counts()"
   ]
  },
  {
   "cell_type": "code",
   "execution_count": 15,
   "id": "366a0be3",
   "metadata": {},
   "outputs": [
    {
     "data": {
      "text/plain": [
       "claim0012596    3\n",
       "claim0000310    3\n",
       "claim0000005    3\n",
       "claim0010821    3\n",
       "claim0001351    3\n",
       "               ..\n",
       "claim0008299    1\n",
       "claim0012138    1\n",
       "claim0011193    1\n",
       "claim0014074    1\n",
       "claim0000080    1\n",
       "Name: claim_number, Length: 12995, dtype: int64"
      ]
     },
     "execution_count": 15,
     "metadata": {},
     "output_type": "execute_result"
    }
   ],
   "source": [
    "data.claim_number.value_counts()"
   ]
  },
  {
   "cell_type": "code",
   "execution_count": 16,
   "id": "b72451cf",
   "metadata": {},
   "outputs": [
    {
     "data": {
      "text/plain": [
       "count    1.339500e+04\n",
       "mean     1.133921e+07\n",
       "std      1.879285e+08\n",
       "min      0.000000e+00\n",
       "25%      7.000000e+03\n",
       "50%      5.400000e+04\n",
       "75%      4.400000e+05\n",
       "max      1.414319e+10\n",
       "Name: sum_insured, dtype: float64"
      ]
     },
     "execution_count": 16,
     "metadata": {},
     "output_type": "execute_result"
    }
   ],
   "source": [
    "data.sum_insured.describe()"
   ]
  },
  {
   "cell_type": "code",
   "execution_count": 17,
   "id": "9f31a3b4",
   "metadata": {},
   "outputs": [],
   "source": [
    "# Plotting Histogram of certain Features\n",
    "def Histplot(feature,color='r',size=(20,20),quan=False):\n",
    "    plt.figure(figsize=size)\n",
    "    sns.set_style('whitegrid')\n",
    "    sns.histplot(feature,color=color)\n",
    "    quantiles=[0.25,0.50,0.75,0.90]\n",
    "    if quan:\n",
    "        for quantile in quantiles:\n",
    "            plt.axvline(feature.quantile(quantile),color='k')\n",
    "    "
   ]
  },
  {
   "cell_type": "code",
   "execution_count": 18,
   "id": "7d834f15",
   "metadata": {},
   "outputs": [
    {
     "data": {
      "text/plain": [
       "PowerTransformer(method='box-cox')"
      ]
     },
     "execution_count": 18,
     "metadata": {},
     "output_type": "execute_result"
    }
   ],
   "source": [
    "pow_trf=PowerTransformer('box-cox')\n",
    "pow_trf.fit(data.sum_insured.values.reshape(-1,1)+1)"
   ]
  },
  {
   "cell_type": "code",
   "execution_count": 19,
   "id": "c6cf9e0e",
   "metadata": {},
   "outputs": [
    {
     "data": {
      "text/plain": [
       "array([0.07124363])"
      ]
     },
     "execution_count": 19,
     "metadata": {},
     "output_type": "execute_result"
    }
   ],
   "source": [
    "pow_trf.lambdas_"
   ]
  },
  {
   "cell_type": "code",
   "execution_count": 20,
   "id": "7b17e2e9",
   "metadata": {},
   "outputs": [
    {
     "data": {
      "image/png": "[encoded data removed]",
      "text/plain": [
       "<Figure size 1440x1440 with 1 Axes>"
      ]
     },
     "metadata": {
      "needs_background": "light"
     },
     "output_type": "display_data"
    }
   ],
   "source": [
    "Histplot(pow_trf.fit_transform(data.sum_insured.values.reshape(-1,1)+1),color='r')"
   ]
  },
  {
   "cell_type": "code",
   "execution_count": 21,
   "id": "c03027d5",
   "metadata": {},
   "outputs": [
    {
     "data": {
      "image/png": "[encoded data removed]",
      "text/plain": [
       "<Figure size 1440x1440 with 1 Axes>"
      ]
     },
     "metadata": {},
     "output_type": "display_data"
    }
   ],
   "source": [
    "Histplot(np.log10(data.sum_insured+1),color='r')"
   ]
  },
  {
   "cell_type": "code",
   "execution_count": 22,
   "id": "9b28b44d",
   "metadata": {},
   "outputs": [
    {
     "data": {
      "text/plain": [
       "0.23372197938246758"
      ]
     },
     "execution_count": 22,
     "metadata": {},
     "output_type": "execute_result"
    }
   ],
   "source": [
    "# Correlation of Sum Insured\n",
    "pow_insured=pow_trf.fit_transform(data.sum_insured.values.reshape(-1,1)+1).flatten()[:train_data.shape[0]]\n",
    "test_pow_insured=pow_trf.transform(test_data.sum_insured.values.reshape(-1,1)+1)\n",
    "log_insured=np.log10(data.sum_insured+1)[:train_data.shape[0]]\n",
    "log_insured.corr(y_train)\n",
    "pd.Series(pow_insured).corr(y_train)"
   ]
  },
  {
   "cell_type": "code",
   "execution_count": 23,
   "id": "a778a2b7",
   "metadata": {},
   "outputs": [
    {
     "data": {
      "text/plain": [
       "<AxesSubplot:ylabel='target'>"
      ]
     },
     "execution_count": 23,
     "metadata": {},
     "output_type": "execute_result"
    },
    {
     "data": {
      "image/png": "[encoded data removed]",
      "text/plain": [
       "<Figure size 1440x1440 with 1 Axes>"
      ]
     },
     "metadata": {},
     "output_type": "display_data"
    }
   ],
   "source": [
    "plt.figure(figsize=(20,20))\n",
    "sns.set_style('whitegrid')\n",
    "sns.scatterplot(x=pow_insured,y=y_train,color='r')"
   ]
  },
  {
   "cell_type": "code",
   "execution_count": 24,
   "id": "16609f86",
   "metadata": {},
   "outputs": [
    {
     "data": {
      "text/plain": [
       "<AxesSubplot:xlabel='sum_insured'>"
      ]
     },
     "execution_count": 24,
     "metadata": {},
     "output_type": "execute_result"
    },
    {
     "data": {
      "image/png": "[encoded data removed]",
      "text/plain": [
       "<Figure size 720x720 with 1 Axes>"
      ]
     },
     "metadata": {},
     "output_type": "display_data"
    }
   ],
   "source": [
    "# Boxplot of Sum assured\n",
    "plt.figure(figsize=(10,10))\n",
    "sns.set_style('darkgrid')\n",
    "sns.boxplot(data=data,x='sum_insured',color='g')\n"
   ]
  },
  {
   "cell_type": "code",
   "execution_count": 25,
   "id": "436d8b53",
   "metadata": {
    "scrolled": true
   },
   "outputs": [
    {
     "data": {
      "text/plain": [
       "<AxesSubplot:>"
      ]
     },
     "execution_count": 25,
     "metadata": {},
     "output_type": "execute_result"
    },
    {
     "data": {
      "image/png": "[encoded data removed]",
      "text/plain": [
       "<Figure size 720x720 with 1 Axes>"
      ]
     },
     "metadata": {},
     "output_type": "display_data"
    }
   ],
   "source": [
    "# Boxplot of Log of Sum assured\n",
    "plt.figure(figsize=(10,10))\n",
    "sns.set_style('darkgrid')\n",
    "sns.boxplot(x=pow_insured,color='g')\n"
   ]
  },
  {
   "cell_type": "markdown",
   "id": "5f52c683",
   "metadata": {},
   "source": [
    "### Integer Extraction"
   ]
  },
  {
   "cell_type": "code",
   "execution_count": 26,
   "id": "6bbd378b",
   "metadata": {},
   "outputs": [],
   "source": [
    "# Function to Extract Integers from Products\n",
    "def Integer_extraction(feature,no_of_int=2):\n",
    "    a=[]\n",
    "    for f in feature:\n",
    "        a.append(int(f[-no_of_int:]))\n",
    "    return a"
   ]
  },
  {
   "cell_type": "code",
   "execution_count": 27,
   "id": "497b8da1",
   "metadata": {},
   "outputs": [
    {
     "data": {
      "text/html": [
       "<div>\n",
       "<style scoped>\n",
       "    .dataframe tbody tr th:only-of-type {\n",
       "        vertical-align: middle;\n",
       "    }\n",
       "\n",
       "    .dataframe tbody tr th {\n",
       "        vertical-align: top;\n",
       "    }\n",
       "\n",
       "    .dataframe thead th {\n",
       "        text-align: right;\n",
       "    }\n",
       "</style>\n",
       "<table border=\"1\" class=\"dataframe\">\n",
       "  <thead>\n",
       "    <tr style=\"text-align: right;\">\n",
       "      <th></th>\n",
       "      <th>claim_id</th>\n",
       "      <th>policy_number</th>\n",
       "      <th>claim_number</th>\n",
       "      <th>sum_insured</th>\n",
       "      <th>product</th>\n",
       "      <th>agent</th>\n",
       "      <th>class_of_business</th>\n",
       "      <th>risk_type</th>\n",
       "      <th>loss_date</th>\n",
       "      <th>client_type</th>\n",
       "      <th>renewal_frequency</th>\n",
       "      <th>primary_cause</th>\n",
       "      <th>secondary_cause</th>\n",
       "      <th>branch</th>\n",
       "      <th>target</th>\n",
       "    </tr>\n",
       "  </thead>\n",
       "  <tbody>\n",
       "    <tr>\n",
       "      <th>0</th>\n",
       "      <td>ID_JZ7QWRHH57RO</td>\n",
       "      <td>pol000009680</td>\n",
       "      <td>claim0011359</td>\n",
       "      <td>300000.0</td>\n",
       "      <td>27</td>\n",
       "      <td>68</td>\n",
       "      <td>31</td>\n",
       "      <td>6</td>\n",
       "      <td>2021-05-13</td>\n",
       "      <td>3</td>\n",
       "      <td>1</td>\n",
       "      <td>7</td>\n",
       "      <td>22</td>\n",
       "      <td>6</td>\n",
       "      <td>82150.00</td>\n",
       "    </tr>\n",
       "    <tr>\n",
       "      <th>1</th>\n",
       "      <td>ID_KQ5TJMVLJ4EP</td>\n",
       "      <td>pol000006869</td>\n",
       "      <td>claim0005272</td>\n",
       "      <td>16000.0</td>\n",
       "      <td>5</td>\n",
       "      <td>26</td>\n",
       "      <td>10</td>\n",
       "      <td>32</td>\n",
       "      <td>2018-05-13</td>\n",
       "      <td>3</td>\n",
       "      <td>1</td>\n",
       "      <td>7</td>\n",
       "      <td>23</td>\n",
       "      <td>2</td>\n",
       "      <td>3780.24</td>\n",
       "    </tr>\n",
       "    <tr>\n",
       "      <th>2</th>\n",
       "      <td>ID_NYHI7WJGGIAE</td>\n",
       "      <td>pol000006135</td>\n",
       "      <td>claim0004147</td>\n",
       "      <td>3000.0</td>\n",
       "      <td>29</td>\n",
       "      <td>37</td>\n",
       "      <td>10</td>\n",
       "      <td>26</td>\n",
       "      <td>2018-08-18</td>\n",
       "      <td>3</td>\n",
       "      <td>1</td>\n",
       "      <td>7</td>\n",
       "      <td>24</td>\n",
       "      <td>2</td>\n",
       "      <td>2196.50</td>\n",
       "    </tr>\n",
       "    <tr>\n",
       "      <th>3</th>\n",
       "      <td>ID_ROMMDCXYUXN5</td>\n",
       "      <td>pol000008991</td>\n",
       "      <td>claim0009962</td>\n",
       "      <td>6000.0</td>\n",
       "      <td>5</td>\n",
       "      <td>37</td>\n",
       "      <td>9</td>\n",
       "      <td>32</td>\n",
       "      <td>2018-12-20</td>\n",
       "      <td>3</td>\n",
       "      <td>1</td>\n",
       "      <td>7</td>\n",
       "      <td>21</td>\n",
       "      <td>1</td>\n",
       "      <td>105.67</td>\n",
       "    </tr>\n",
       "    <tr>\n",
       "      <th>4</th>\n",
       "      <td>ID_2OTD9NX8L73D</td>\n",
       "      <td>pol000007768</td>\n",
       "      <td>claim0007346</td>\n",
       "      <td>26850.0</td>\n",
       "      <td>15</td>\n",
       "      <td>26</td>\n",
       "      <td>34</td>\n",
       "      <td>23</td>\n",
       "      <td>2018-11-07</td>\n",
       "      <td>1</td>\n",
       "      <td>1</td>\n",
       "      <td>7</td>\n",
       "      <td>21</td>\n",
       "      <td>1</td>\n",
       "      <td>1605.64</td>\n",
       "    </tr>\n",
       "  </tbody>\n",
       "</table>\n",
       "</div>"
      ],
      "text/plain": [
       "          claim_id policy_number  claim_number  sum_insured  product  agent  \\\n",
       "0  ID_JZ7QWRHH57RO  pol000009680  claim0011359     300000.0       27     68   \n",
       "1  ID_KQ5TJMVLJ4EP  pol000006869  claim0005272      16000.0        5     26   \n",
       "2  ID_NYHI7WJGGIAE  pol000006135  claim0004147       3000.0       29     37   \n",
       "3  ID_ROMMDCXYUXN5  pol000008991  claim0009962       6000.0        5     37   \n",
       "4  ID_2OTD9NX8L73D  pol000007768  claim0007346      26850.0       15     26   \n",
       "\n",
       "   class_of_business  risk_type   loss_date  client_type  renewal_frequency  \\\n",
       "0                 31          6  2021-05-13            3                  1   \n",
       "1                 10         32  2018-05-13            3                  1   \n",
       "2                 10         26  2018-08-18            3                  1   \n",
       "3                  9         32  2018-12-20            3                  1   \n",
       "4                 34         23  2018-11-07            1                  1   \n",
       "\n",
       "   primary_cause  secondary_cause  branch    target  \n",
       "0              7               22       6  82150.00  \n",
       "1              7               23       2   3780.24  \n",
       "2              7               24       2   2196.50  \n",
       "3              7               21       1    105.67  \n",
       "4              7               21       1   1605.64  "
      ]
     },
     "execution_count": 27,
     "metadata": {},
     "output_type": "execute_result"
    }
   ],
   "source": [
    "cols=['product','agent','class_of_business','risk_type','client_type','renewal_frequency','secondary_cause','branch','primary_cause']\n",
    "train=train_data.copy()\n",
    "for col in cols:\n",
    "    train[col]=Integer_extraction(train_data[col])\n",
    "train.head(5)"
   ]
  },
  {
   "cell_type": "code",
   "execution_count": 28,
   "id": "2c0ea3fe",
   "metadata": {},
   "outputs": [
    {
     "data": {
      "text/html": [
       "<div>\n",
       "<style scoped>\n",
       "    .dataframe tbody tr th:only-of-type {\n",
       "        vertical-align: middle;\n",
       "    }\n",
       "\n",
       "    .dataframe tbody tr th {\n",
       "        vertical-align: top;\n",
       "    }\n",
       "\n",
       "    .dataframe thead th {\n",
       "        text-align: right;\n",
       "    }\n",
       "</style>\n",
       "<table border=\"1\" class=\"dataframe\">\n",
       "  <thead>\n",
       "    <tr style=\"text-align: right;\">\n",
       "      <th></th>\n",
       "      <th>claim_id</th>\n",
       "      <th>policy_number</th>\n",
       "      <th>claim_number</th>\n",
       "      <th>sum_insured</th>\n",
       "      <th>product</th>\n",
       "      <th>agent</th>\n",
       "      <th>class_of_business</th>\n",
       "      <th>risk_type</th>\n",
       "      <th>loss_date</th>\n",
       "      <th>client_type</th>\n",
       "      <th>renewal_frequency</th>\n",
       "      <th>primary_cause</th>\n",
       "      <th>secondary_cause</th>\n",
       "      <th>branch</th>\n",
       "    </tr>\n",
       "  </thead>\n",
       "  <tbody>\n",
       "    <tr>\n",
       "      <th>0</th>\n",
       "      <td>ID_4RO0KZI9BBW2</td>\n",
       "      <td>pol000007115</td>\n",
       "      <td>claim0005757</td>\n",
       "      <td>300000.0</td>\n",
       "      <td>5</td>\n",
       "      <td>68</td>\n",
       "      <td>9</td>\n",
       "      <td>32</td>\n",
       "      <td>2021-03-11</td>\n",
       "      <td>3</td>\n",
       "      <td>1</td>\n",
       "      <td>7</td>\n",
       "      <td>29</td>\n",
       "      <td>4</td>\n",
       "    </tr>\n",
       "    <tr>\n",
       "      <th>1</th>\n",
       "      <td>ID_GTE9ZUJ9GZ97</td>\n",
       "      <td>pol000006008</td>\n",
       "      <td>claim0003037</td>\n",
       "      <td>2700000.0</td>\n",
       "      <td>15</td>\n",
       "      <td>64</td>\n",
       "      <td>34</td>\n",
       "      <td>23</td>\n",
       "      <td>2020-06-25</td>\n",
       "      <td>1</td>\n",
       "      <td>3</td>\n",
       "      <td>7</td>\n",
       "      <td>22</td>\n",
       "      <td>2</td>\n",
       "    </tr>\n",
       "    <tr>\n",
       "      <th>2</th>\n",
       "      <td>ID_RUVIYRKWZ4RG</td>\n",
       "      <td>pol000007651</td>\n",
       "      <td>claim0006507</td>\n",
       "      <td>4071352.0</td>\n",
       "      <td>12</td>\n",
       "      <td>21</td>\n",
       "      <td>16</td>\n",
       "      <td>15</td>\n",
       "      <td>2019-03-14</td>\n",
       "      <td>1</td>\n",
       "      <td>1</td>\n",
       "      <td>11</td>\n",
       "      <td>49</td>\n",
       "      <td>1</td>\n",
       "    </tr>\n",
       "    <tr>\n",
       "      <th>3</th>\n",
       "      <td>ID_J81X8SWU6JYN</td>\n",
       "      <td>pol000010981</td>\n",
       "      <td>claim0013636</td>\n",
       "      <td>0.0</td>\n",
       "      <td>2</td>\n",
       "      <td>37</td>\n",
       "      <td>2</td>\n",
       "      <td>2</td>\n",
       "      <td>2018-12-04</td>\n",
       "      <td>1</td>\n",
       "      <td>2</td>\n",
       "      <td>2</td>\n",
       "      <td>12</td>\n",
       "      <td>5</td>\n",
       "    </tr>\n",
       "    <tr>\n",
       "      <th>4</th>\n",
       "      <td>ID_94NM3JJAWWOQ</td>\n",
       "      <td>pol000005926</td>\n",
       "      <td>claim0001750</td>\n",
       "      <td>1607178.0</td>\n",
       "      <td>15</td>\n",
       "      <td>37</td>\n",
       "      <td>34</td>\n",
       "      <td>23</td>\n",
       "      <td>2019-09-18</td>\n",
       "      <td>1</td>\n",
       "      <td>3</td>\n",
       "      <td>7</td>\n",
       "      <td>22</td>\n",
       "      <td>2</td>\n",
       "    </tr>\n",
       "  </tbody>\n",
       "</table>\n",
       "</div>"
      ],
      "text/plain": [
       "          claim_id policy_number  claim_number  sum_insured  product  agent  \\\n",
       "0  ID_4RO0KZI9BBW2  pol000007115  claim0005757     300000.0        5     68   \n",
       "1  ID_GTE9ZUJ9GZ97  pol000006008  claim0003037    2700000.0       15     64   \n",
       "2  ID_RUVIYRKWZ4RG  pol000007651  claim0006507    4071352.0       12     21   \n",
       "3  ID_J81X8SWU6JYN  pol000010981  claim0013636          0.0        2     37   \n",
       "4  ID_94NM3JJAWWOQ  pol000005926  claim0001750    1607178.0       15     37   \n",
       "\n",
       "   class_of_business  risk_type   loss_date  client_type  renewal_frequency  \\\n",
       "0                  9         32  2021-03-11            3                  1   \n",
       "1                 34         23  2020-06-25            1                  3   \n",
       "2                 16         15  2019-03-14            1                  1   \n",
       "3                  2          2  2018-12-04            1                  2   \n",
       "4                 34         23  2019-09-18            1                  3   \n",
       "\n",
       "   primary_cause  secondary_cause  branch  \n",
       "0              7               29       4  \n",
       "1              7               22       2  \n",
       "2             11               49       1  \n",
       "3              2               12       5  \n",
       "4              7               22       2  "
      ]
     },
     "execution_count": 28,
     "metadata": {},
     "output_type": "execute_result"
    }
   ],
   "source": [
    "cols=['product','agent','class_of_business','risk_type','client_type','renewal_frequency','secondary_cause','branch','primary_cause']\n",
    "test=test_data.copy()\n",
    "for col in cols:\n",
    "    test[col]=Integer_extraction(test_data[col])\n",
    "test.head(5)"
   ]
  },
  {
   "cell_type": "code",
   "execution_count": 29,
   "id": "d6037b4d",
   "metadata": {
    "scrolled": true
   },
   "outputs": [
    {
     "data": {
      "text/html": [
       "<div>\n",
       "<style scoped>\n",
       "    .dataframe tbody tr th:only-of-type {\n",
       "        vertical-align: middle;\n",
       "    }\n",
       "\n",
       "    .dataframe tbody tr th {\n",
       "        vertical-align: top;\n",
       "    }\n",
       "\n",
       "    .dataframe thead th {\n",
       "        text-align: right;\n",
       "    }\n",
       "</style>\n",
       "<table border=\"1\" class=\"dataframe\">\n",
       "  <thead>\n",
       "    <tr style=\"text-align: right;\">\n",
       "      <th></th>\n",
       "      <th>sum_insured</th>\n",
       "      <th>product</th>\n",
       "      <th>agent</th>\n",
       "      <th>class_of_business</th>\n",
       "      <th>risk_type</th>\n",
       "      <th>client_type</th>\n",
       "      <th>renewal_frequency</th>\n",
       "      <th>primary_cause</th>\n",
       "      <th>secondary_cause</th>\n",
       "      <th>branch</th>\n",
       "      <th>target</th>\n",
       "    </tr>\n",
       "  </thead>\n",
       "  <tbody>\n",
       "    <tr>\n",
       "      <th>sum_insured</th>\n",
       "      <td>1.000000</td>\n",
       "      <td>-0.058226</td>\n",
       "      <td>-0.003520</td>\n",
       "      <td>-0.059087</td>\n",
       "      <td>-0.087700</td>\n",
       "      <td>-0.054448</td>\n",
       "      <td>0.042714</td>\n",
       "      <td>-0.082974</td>\n",
       "      <td>-0.069100</td>\n",
       "      <td>0.041295</td>\n",
       "      <td>0.102604</td>\n",
       "    </tr>\n",
       "    <tr>\n",
       "      <th>product</th>\n",
       "      <td>-0.058226</td>\n",
       "      <td>1.000000</td>\n",
       "      <td>0.003414</td>\n",
       "      <td>0.421078</td>\n",
       "      <td>-0.266836</td>\n",
       "      <td>0.018097</td>\n",
       "      <td>0.000415</td>\n",
       "      <td>0.224739</td>\n",
       "      <td>0.125715</td>\n",
       "      <td>-0.020577</td>\n",
       "      <td>0.004257</td>\n",
       "    </tr>\n",
       "    <tr>\n",
       "      <th>agent</th>\n",
       "      <td>-0.003520</td>\n",
       "      <td>0.003414</td>\n",
       "      <td>1.000000</td>\n",
       "      <td>-0.065303</td>\n",
       "      <td>0.098253</td>\n",
       "      <td>-0.055109</td>\n",
       "      <td>-0.064468</td>\n",
       "      <td>0.078273</td>\n",
       "      <td>0.053465</td>\n",
       "      <td>0.273312</td>\n",
       "      <td>0.013212</td>\n",
       "    </tr>\n",
       "    <tr>\n",
       "      <th>class_of_business</th>\n",
       "      <td>-0.059087</td>\n",
       "      <td>0.421078</td>\n",
       "      <td>-0.065303</td>\n",
       "      <td>1.000000</td>\n",
       "      <td>-0.242113</td>\n",
       "      <td>-0.427346</td>\n",
       "      <td>0.171981</td>\n",
       "      <td>0.108724</td>\n",
       "      <td>0.060348</td>\n",
       "      <td>-0.126651</td>\n",
       "      <td>0.028270</td>\n",
       "    </tr>\n",
       "    <tr>\n",
       "      <th>risk_type</th>\n",
       "      <td>-0.087700</td>\n",
       "      <td>-0.266836</td>\n",
       "      <td>0.098253</td>\n",
       "      <td>-0.242113</td>\n",
       "      <td>1.000000</td>\n",
       "      <td>0.065548</td>\n",
       "      <td>-0.007618</td>\n",
       "      <td>0.372485</td>\n",
       "      <td>0.270853</td>\n",
       "      <td>0.162672</td>\n",
       "      <td>-0.090253</td>\n",
       "    </tr>\n",
       "    <tr>\n",
       "      <th>client_type</th>\n",
       "      <td>-0.054448</td>\n",
       "      <td>0.018097</td>\n",
       "      <td>-0.055109</td>\n",
       "      <td>-0.427346</td>\n",
       "      <td>0.065548</td>\n",
       "      <td>1.000000</td>\n",
       "      <td>-0.292224</td>\n",
       "      <td>-0.080134</td>\n",
       "      <td>-0.067717</td>\n",
       "      <td>0.125338</td>\n",
       "      <td>-0.098397</td>\n",
       "    </tr>\n",
       "    <tr>\n",
       "      <th>renewal_frequency</th>\n",
       "      <td>0.042714</td>\n",
       "      <td>0.000415</td>\n",
       "      <td>-0.064468</td>\n",
       "      <td>0.171981</td>\n",
       "      <td>-0.007618</td>\n",
       "      <td>-0.292224</td>\n",
       "      <td>1.000000</td>\n",
       "      <td>0.008704</td>\n",
       "      <td>0.043279</td>\n",
       "      <td>0.023327</td>\n",
       "      <td>0.079784</td>\n",
       "    </tr>\n",
       "    <tr>\n",
       "      <th>primary_cause</th>\n",
       "      <td>-0.082974</td>\n",
       "      <td>0.224739</td>\n",
       "      <td>0.078273</td>\n",
       "      <td>0.108724</td>\n",
       "      <td>0.372485</td>\n",
       "      <td>-0.080134</td>\n",
       "      <td>0.008704</td>\n",
       "      <td>1.000000</td>\n",
       "      <td>0.454450</td>\n",
       "      <td>0.090475</td>\n",
       "      <td>-0.022899</td>\n",
       "    </tr>\n",
       "    <tr>\n",
       "      <th>secondary_cause</th>\n",
       "      <td>-0.069100</td>\n",
       "      <td>0.125715</td>\n",
       "      <td>0.053465</td>\n",
       "      <td>0.060348</td>\n",
       "      <td>0.270853</td>\n",
       "      <td>-0.067717</td>\n",
       "      <td>0.043279</td>\n",
       "      <td>0.454450</td>\n",
       "      <td>1.000000</td>\n",
       "      <td>0.010664</td>\n",
       "      <td>-0.013484</td>\n",
       "    </tr>\n",
       "    <tr>\n",
       "      <th>branch</th>\n",
       "      <td>0.041295</td>\n",
       "      <td>-0.020577</td>\n",
       "      <td>0.273312</td>\n",
       "      <td>-0.126651</td>\n",
       "      <td>0.162672</td>\n",
       "      <td>0.125338</td>\n",
       "      <td>0.023327</td>\n",
       "      <td>0.090475</td>\n",
       "      <td>0.010664</td>\n",
       "      <td>1.000000</td>\n",
       "      <td>-0.027489</td>\n",
       "    </tr>\n",
       "    <tr>\n",
       "      <th>target</th>\n",
       "      <td>0.102604</td>\n",
       "      <td>0.004257</td>\n",
       "      <td>0.013212</td>\n",
       "      <td>0.028270</td>\n",
       "      <td>-0.090253</td>\n",
       "      <td>-0.098397</td>\n",
       "      <td>0.079784</td>\n",
       "      <td>-0.022899</td>\n",
       "      <td>-0.013484</td>\n",
       "      <td>-0.027489</td>\n",
       "      <td>1.000000</td>\n",
       "    </tr>\n",
       "  </tbody>\n",
       "</table>\n",
       "</div>"
      ],
      "text/plain": [
       "                   sum_insured   product     agent  class_of_business  \\\n",
       "sum_insured           1.000000 -0.058226 -0.003520          -0.059087   \n",
       "product              -0.058226  1.000000  0.003414           0.421078   \n",
       "agent                -0.003520  0.003414  1.000000          -0.065303   \n",
       "class_of_business    -0.059087  0.421078 -0.065303           1.000000   \n",
       "risk_type            -0.087700 -0.266836  0.098253          -0.242113   \n",
       "client_type          -0.054448  0.018097 -0.055109          -0.427346   \n",
       "renewal_frequency     0.042714  0.000415 -0.064468           0.171981   \n",
       "primary_cause        -0.082974  0.224739  0.078273           0.108724   \n",
       "secondary_cause      -0.069100  0.125715  0.053465           0.060348   \n",
       "branch                0.041295 -0.020577  0.273312          -0.126651   \n",
       "target                0.102604  0.004257  0.013212           0.028270   \n",
       "\n",
       "                   risk_type  client_type  renewal_frequency  primary_cause  \\\n",
       "sum_insured        -0.087700    -0.054448           0.042714      -0.082974   \n",
       "product            -0.266836     0.018097           0.000415       0.224739   \n",
       "agent               0.098253    -0.055109          -0.064468       0.078273   \n",
       "class_of_business  -0.242113    -0.427346           0.171981       0.108724   \n",
       "risk_type           1.000000     0.065548          -0.007618       0.372485   \n",
       "client_type         0.065548     1.000000          -0.292224      -0.080134   \n",
       "renewal_frequency  -0.007618    -0.292224           1.000000       0.008704   \n",
       "primary_cause       0.372485    -0.080134           0.008704       1.000000   \n",
       "secondary_cause     0.270853    -0.067717           0.043279       0.454450   \n",
       "branch              0.162672     0.125338           0.023327       0.090475   \n",
       "target             -0.090253    -0.098397           0.079784      -0.022899   \n",
       "\n",
       "                   secondary_cause    branch    target  \n",
       "sum_insured              -0.069100  0.041295  0.102604  \n",
       "product                   0.125715 -0.020577  0.004257  \n",
       "agent                     0.053465  0.273312  0.013212  \n",
       "class_of_business         0.060348 -0.126651  0.028270  \n",
       "risk_type                 0.270853  0.162672 -0.090253  \n",
       "client_type              -0.067717  0.125338 -0.098397  \n",
       "renewal_frequency         0.043279  0.023327  0.079784  \n",
       "primary_cause             0.454450  0.090475 -0.022899  \n",
       "secondary_cause           1.000000  0.010664 -0.013484  \n",
       "branch                    0.010664  1.000000 -0.027489  \n",
       "target                   -0.013484 -0.027489  1.000000  "
      ]
     },
     "execution_count": 29,
     "metadata": {},
     "output_type": "execute_result"
    }
   ],
   "source": [
    "train.corr()"
   ]
  },
  {
   "cell_type": "code",
   "execution_count": 30,
   "id": "ced89228",
   "metadata": {},
   "outputs": [
    {
     "data": {
      "text/plain": [
       "array([ 1.33664209,  0.21841982,  0.04658498, ...,  0.04367828,\n",
       "       -0.23706492, -0.0886075 ])"
      ]
     },
     "execution_count": 30,
     "metadata": {},
     "output_type": "execute_result"
    }
   ],
   "source": [
    "pow_trf_1=PowerTransformer(method='box-cox')\n",
    "y=pow_trf_1.fit_transform(y_train.values.reshape(-1,1)+1)\n",
    "y=y.flatten()\n",
    "y"
   ]
  },
  {
   "cell_type": "code",
   "execution_count": 31,
   "id": "2defaf8e",
   "metadata": {},
   "outputs": [
    {
     "data": {
      "text/html": [
       "<div>\n",
       "<style scoped>\n",
       "    .dataframe tbody tr th:only-of-type {\n",
       "        vertical-align: middle;\n",
       "    }\n",
       "\n",
       "    .dataframe tbody tr th {\n",
       "        vertical-align: top;\n",
       "    }\n",
       "\n",
       "    .dataframe thead th {\n",
       "        text-align: right;\n",
       "    }\n",
       "</style>\n",
       "<table border=\"1\" class=\"dataframe\">\n",
       "  <thead>\n",
       "    <tr style=\"text-align: right;\">\n",
       "      <th></th>\n",
       "      <th>sum_insured</th>\n",
       "      <th>product</th>\n",
       "      <th>agent</th>\n",
       "      <th>class_of_business</th>\n",
       "      <th>risk_type</th>\n",
       "      <th>client_type</th>\n",
       "      <th>renewal_frequency</th>\n",
       "      <th>primary_cause</th>\n",
       "      <th>secondary_cause</th>\n",
       "      <th>branch</th>\n",
       "    </tr>\n",
       "  </thead>\n",
       "  <tbody>\n",
       "    <tr>\n",
       "      <th>0</th>\n",
       "      <td>0.446180</td>\n",
       "      <td>5</td>\n",
       "      <td>68</td>\n",
       "      <td>9</td>\n",
       "      <td>32</td>\n",
       "      <td>3</td>\n",
       "      <td>1</td>\n",
       "      <td>7</td>\n",
       "      <td>29</td>\n",
       "      <td>4</td>\n",
       "    </tr>\n",
       "    <tr>\n",
       "      <th>1</th>\n",
       "      <td>1.097906</td>\n",
       "      <td>15</td>\n",
       "      <td>64</td>\n",
       "      <td>34</td>\n",
       "      <td>23</td>\n",
       "      <td>1</td>\n",
       "      <td>3</td>\n",
       "      <td>7</td>\n",
       "      <td>22</td>\n",
       "      <td>2</td>\n",
       "    </tr>\n",
       "    <tr>\n",
       "      <th>2</th>\n",
       "      <td>1.231460</td>\n",
       "      <td>12</td>\n",
       "      <td>21</td>\n",
       "      <td>16</td>\n",
       "      <td>15</td>\n",
       "      <td>1</td>\n",
       "      <td>1</td>\n",
       "      <td>11</td>\n",
       "      <td>49</td>\n",
       "      <td>1</td>\n",
       "    </tr>\n",
       "    <tr>\n",
       "      <th>3</th>\n",
       "      <td>-1.833795</td>\n",
       "      <td>2</td>\n",
       "      <td>37</td>\n",
       "      <td>2</td>\n",
       "      <td>2</td>\n",
       "      <td>1</td>\n",
       "      <td>2</td>\n",
       "      <td>2</td>\n",
       "      <td>12</td>\n",
       "      <td>5</td>\n",
       "    </tr>\n",
       "    <tr>\n",
       "      <th>4</th>\n",
       "      <td>0.934708</td>\n",
       "      <td>15</td>\n",
       "      <td>37</td>\n",
       "      <td>34</td>\n",
       "      <td>23</td>\n",
       "      <td>1</td>\n",
       "      <td>3</td>\n",
       "      <td>7</td>\n",
       "      <td>22</td>\n",
       "      <td>2</td>\n",
       "    </tr>\n",
       "  </tbody>\n",
       "</table>\n",
       "</div>"
      ],
      "text/plain": [
       "   sum_insured  product  agent  class_of_business  risk_type  client_type  \\\n",
       "0     0.446180        5     68                  9         32            3   \n",
       "1     1.097906       15     64                 34         23            1   \n",
       "2     1.231460       12     21                 16         15            1   \n",
       "3    -1.833795        2     37                  2          2            1   \n",
       "4     0.934708       15     37                 34         23            1   \n",
       "\n",
       "   renewal_frequency  primary_cause  secondary_cause  branch  \n",
       "0                  1              7               29       4  \n",
       "1                  3              7               22       2  \n",
       "2                  1             11               49       1  \n",
       "3                  2              2               12       5  \n",
       "4                  3              7               22       2  "
      ]
     },
     "execution_count": 31,
     "metadata": {},
     "output_type": "execute_result"
    }
   ],
   "source": [
    "test_pow_insured=pow_trf.transform(test_data.sum_insured.values.reshape(-1,1)+1)\n",
    "test['sum_insured']=test_pow_insured\n",
    "test.drop(['claim_id','policy_number','claim_number','loss_date'],axis=1,inplace=True)\n",
    "test.head(5)"
   ]
  },
  {
   "cell_type": "code",
   "execution_count": 32,
   "id": "a20ed1ba",
   "metadata": {},
   "outputs": [
    {
     "data": {
      "text/html": [
       "<div>\n",
       "<style scoped>\n",
       "    .dataframe tbody tr th:only-of-type {\n",
       "        vertical-align: middle;\n",
       "    }\n",
       "\n",
       "    .dataframe tbody tr th {\n",
       "        vertical-align: top;\n",
       "    }\n",
       "\n",
       "    .dataframe thead th {\n",
       "        text-align: right;\n",
       "    }\n",
       "</style>\n",
       "<table border=\"1\" class=\"dataframe\">\n",
       "  <thead>\n",
       "    <tr style=\"text-align: right;\">\n",
       "      <th></th>\n",
       "      <th>sum_insured</th>\n",
       "      <th>product</th>\n",
       "      <th>agent</th>\n",
       "      <th>class_of_business</th>\n",
       "      <th>risk_type</th>\n",
       "      <th>client_type</th>\n",
       "      <th>renewal_frequency</th>\n",
       "      <th>primary_cause</th>\n",
       "      <th>secondary_cause</th>\n",
       "      <th>branch</th>\n",
       "    </tr>\n",
       "  </thead>\n",
       "  <tbody>\n",
       "    <tr>\n",
       "      <th>0</th>\n",
       "      <td>0.446180</td>\n",
       "      <td>27</td>\n",
       "      <td>68</td>\n",
       "      <td>31</td>\n",
       "      <td>6</td>\n",
       "      <td>3</td>\n",
       "      <td>1</td>\n",
       "      <td>7</td>\n",
       "      <td>22</td>\n",
       "      <td>6</td>\n",
       "    </tr>\n",
       "    <tr>\n",
       "      <th>1</th>\n",
       "      <td>-0.278647</td>\n",
       "      <td>5</td>\n",
       "      <td>26</td>\n",
       "      <td>10</td>\n",
       "      <td>32</td>\n",
       "      <td>3</td>\n",
       "      <td>1</td>\n",
       "      <td>7</td>\n",
       "      <td>23</td>\n",
       "      <td>2</td>\n",
       "    </tr>\n",
       "    <tr>\n",
       "      <th>2</th>\n",
       "      <td>-0.629486</td>\n",
       "      <td>29</td>\n",
       "      <td>37</td>\n",
       "      <td>10</td>\n",
       "      <td>26</td>\n",
       "      <td>3</td>\n",
       "      <td>1</td>\n",
       "      <td>7</td>\n",
       "      <td>24</td>\n",
       "      <td>2</td>\n",
       "    </tr>\n",
       "    <tr>\n",
       "      <th>3</th>\n",
       "      <td>-0.489281</td>\n",
       "      <td>5</td>\n",
       "      <td>37</td>\n",
       "      <td>9</td>\n",
       "      <td>32</td>\n",
       "      <td>3</td>\n",
       "      <td>1</td>\n",
       "      <td>7</td>\n",
       "      <td>21</td>\n",
       "      <td>1</td>\n",
       "    </tr>\n",
       "    <tr>\n",
       "      <th>4</th>\n",
       "      <td>-0.161391</td>\n",
       "      <td>15</td>\n",
       "      <td>26</td>\n",
       "      <td>34</td>\n",
       "      <td>23</td>\n",
       "      <td>1</td>\n",
       "      <td>1</td>\n",
       "      <td>7</td>\n",
       "      <td>21</td>\n",
       "      <td>1</td>\n",
       "    </tr>\n",
       "  </tbody>\n",
       "</table>\n",
       "</div>"
      ],
      "text/plain": [
       "   sum_insured  product  agent  class_of_business  risk_type  client_type  \\\n",
       "0     0.446180       27     68                 31          6            3   \n",
       "1    -0.278647        5     26                 10         32            3   \n",
       "2    -0.629486       29     37                 10         26            3   \n",
       "3    -0.489281        5     37                  9         32            3   \n",
       "4    -0.161391       15     26                 34         23            1   \n",
       "\n",
       "   renewal_frequency  primary_cause  secondary_cause  branch  \n",
       "0                  1              7               22       6  \n",
       "1                  1              7               23       2  \n",
       "2                  1              7               24       2  \n",
       "3                  1              7               21       1  \n",
       "4                  1              7               21       1  "
      ]
     },
     "execution_count": 32,
     "metadata": {},
     "output_type": "execute_result"
    }
   ],
   "source": [
    "train['sum_insured']=pow_insured\n",
    "train.drop(['claim_id','policy_number','claim_number','loss_date','target'],axis=1,inplace=True)\n",
    "train.head(5)"
   ]
  },
  {
   "cell_type": "code",
   "execution_count": 33,
   "id": "a9f3a3e9",
   "metadata": {},
   "outputs": [],
   "source": [
    "## Drop from test and train\n",
    "train_data.drop(['claim_id','policy_number','claim_number','loss_date','target'],axis=1,inplace=True)"
   ]
  },
  {
   "cell_type": "code",
   "execution_count": 34,
   "id": "54e15cbf",
   "metadata": {},
   "outputs": [
    {
     "data": {
      "text/plain": [
       "<AxesSubplot:xlabel='target', ylabel='Count'>"
      ]
     },
     "execution_count": 34,
     "metadata": {},
     "output_type": "execute_result"
    },
    {
     "data": {
      "image/png": "[encoded data removed]",
      "text/plain": [
       "<Figure size 1080x1080 with 1 Axes>"
      ]
     },
     "metadata": {},
     "output_type": "display_data"
    }
   ],
   "source": [
    "plt.figure(figsize=(15,15))\n",
    "sns.histplot(np.log10(y_train+1))"
   ]
  },
  {
   "cell_type": "markdown",
   "id": "3804458f",
   "metadata": {},
   "source": [
    "### Model Building"
   ]
  },
  {
   "cell_type": "markdown",
   "id": "0a9b932d",
   "metadata": {},
   "source": [
    "#### Preprocessing "
   ]
  },
  {
   "cell_type": "code",
   "execution_count": 35,
   "id": "c072664c",
   "metadata": {},
   "outputs": [
    {
     "data": {
      "text/plain": [
       "StandardScaler()"
      ]
     },
     "execution_count": 35,
     "metadata": {},
     "output_type": "execute_result"
    }
   ],
   "source": [
    "std_scaler=StandardScaler()\n",
    "std_scaler.fit(train)"
   ]
  },
  {
   "cell_type": "code",
   "execution_count": 36,
   "id": "1aadacdc",
   "metadata": {},
   "outputs": [
    {
     "data": {
      "text/plain": [
       "(9376, 10)"
      ]
     },
     "execution_count": 36,
     "metadata": {},
     "output_type": "execute_result"
    }
   ],
   "source": [
    "train_temp=std_scaler.transform(train)\n",
    "test_temp=std_scaler.transform(test)\n",
    "train_temp.shape"
   ]
  },
  {
   "cell_type": "code",
   "execution_count": 37,
   "id": "2d9db602",
   "metadata": {},
   "outputs": [],
   "source": [
    "# Function to analyse Result\n",
    "def score_evaluate(est,x,y_target):\n",
    "    score=cross_val_predict(estimator=est,X=x,y=y_target,cv=5)\n",
    "    score=pow_trf_1.inverse_transform(score.reshape(-1,1))-1\n",
    "    est.fit(x,y_target)\n",
    "    pre=est.predict(x)\n",
    "    pre=pow_trf_1.inverse_transform(pre.reshape(-1,1))-1\n",
    "    error=mean_absolute_error(y_train,pre)\n",
    "    print('MAE of Estimator: {:.4f}'.format(error))\n",
    "    print('MAE of Cross Validation Estimator: {:.4f}'.format(mean_absolute_error(y_train,score)))\n",
    "    print('R2_Score: {}'.format(r2_score(y_train,score)))\n",
    "    return score,error"
   ]
  },
  {
   "cell_type": "code",
   "execution_count": 46,
   "id": "7087bfdc",
   "metadata": {},
   "outputs": [],
   "source": [
    "# Test Submit Function\n",
    "def test_submit(model):\n",
    "    test_pred=model.predict(test)\n",
    "    test_pred=pow_trf_1.inverse_transform(test_pred.reshape(-1,1))\n",
    "    test_pred=test_pred.flatten()\n",
    "    sub_file=pd.DataFrame()\n",
    "    sub_file['claim_id']=test_id\n",
    "    sub_file['target']=test_pred\n",
    "    return sub_file"
   ]
  },
  {
   "cell_type": "code",
   "execution_count": 38,
   "id": "b0766a8a",
   "metadata": {},
   "outputs": [],
   "source": [
    "def submission(sub_file,filename):\n",
    "    sub_file.to_csv(r'C:\\Users\\DELL\\Documents\\UmojaHack2022\\Submission_files\\\\'+filename,index=False)"
   ]
  },
  {
   "cell_type": "markdown",
   "id": "a0fa3966",
   "metadata": {},
   "source": [
    "#### Linear Regression"
   ]
  },
  {
   "cell_type": "code",
   "execution_count": 39,
   "id": "79b247d9",
   "metadata": {},
   "outputs": [
    {
     "data": {
      "text/plain": [
       "LinearRegression()"
      ]
     },
     "execution_count": 39,
     "metadata": {},
     "output_type": "execute_result"
    }
   ],
   "source": [
    "lin_reg=LinearRegression()\n",
    "lin_reg.fit(train,y)"
   ]
  },
  {
   "cell_type": "code",
   "execution_count": 40,
   "id": "5e92c052",
   "metadata": {
    "scrolled": true
   },
   "outputs": [
    {
     "name": "stdout",
     "output_type": "stream",
     "text": [
      "MAE of Estimator: 40046.8971\n",
      "MAE of Cross Validation Estimator: 40067.1184\n",
      "R2_Score: -0.01752445269045455\n"
     ]
    }
   ],
   "source": [
    "test_pre,error=score_evaluate(lin_reg,train,y)"
   ]
  },
  {
   "cell_type": "markdown",
   "id": "483181c7",
   "metadata": {},
   "source": [
    "The score from the Linear Regression Least squares alggorithm will serve as our baseline model"
   ]
  },
  {
   "cell_type": "markdown",
   "id": "7ed7d657",
   "metadata": {},
   "source": [
    "### Random Forest"
   ]
  },
  {
   "cell_type": "code",
   "execution_count": 41,
   "id": "fffa3fa9",
   "metadata": {},
   "outputs": [
    {
     "data": {
      "text/plain": [
       "RandomForestRegressor(n_estimators=500, random_state=42)"
      ]
     },
     "execution_count": 41,
     "metadata": {},
     "output_type": "execute_result"
    }
   ],
   "source": [
    "forest_reg=RandomForestRegressor(random_state=42,n_estimators=500)\n",
    "forest_reg.fit(train,y)"
   ]
  },
  {
   "cell_type": "code",
   "execution_count": 42,
   "id": "87267fec",
   "metadata": {},
   "outputs": [
    {
     "name": "stdout",
     "output_type": "stream",
     "text": [
      "MAE of Estimator: 25819.0736\n",
      "MAE of Cross Validation Estimator: 36888.4876\n",
      "R2_Score: 0.0987893485926854\n"
     ]
    }
   ],
   "source": [
    "test_pre=score_evaluate(forest_reg,train,y)"
   ]
  },
  {
   "cell_type": "code",
   "execution_count": 43,
   "id": "7208ec64",
   "metadata": {},
   "outputs": [],
   "source": [
    "# Function To Build Array of Feature Importance\n",
    "def Feature_importance(feature):\n",
    "    a=pd.DataFrame()\n",
    "    a['Features']=feature\n",
    "    a.index=train_data.columns\n",
    "    a.sort_values(by='Features',inplace=True)\n",
    "    return a\n"
   ]
  },
  {
   "cell_type": "code",
   "execution_count": 44,
   "id": "400512b1",
   "metadata": {
    "scrolled": true
   },
   "outputs": [
    {
     "data": {
      "text/plain": [
       "<AxesSubplot:>"
      ]
     },
     "execution_count": 44,
     "metadata": {},
     "output_type": "execute_result"
    },
    {
     "data": {
      "text/plain": [
       "<Figure size 1440x1440 with 0 Axes>"
      ]
     },
     "metadata": {},
     "output_type": "display_data"
    },
    {
     "data": {
      "image/png": "[encoded data removed]",
      "text/plain": [
       "<Figure size 432x288 with 1 Axes>"
      ]
     },
     "metadata": {},
     "output_type": "display_data"
    }
   ],
   "source": [
    "a=Feature_importance(forest_reg.feature_importances_)\n",
    "plt.figure(figsize=(20,20))\n",
    "a.plot(kind='barh')"
   ]
  },
  {
   "cell_type": "code",
   "execution_count": 48,
   "id": "0f5795a9",
   "metadata": {},
   "outputs": [
    {
     "data": {
      "text/html": [
       "<div>\n",
       "<style scoped>\n",
       "    .dataframe tbody tr th:only-of-type {\n",
       "        vertical-align: middle;\n",
       "    }\n",
       "\n",
       "    .dataframe tbody tr th {\n",
       "        vertical-align: top;\n",
       "    }\n",
       "\n",
       "    .dataframe thead th {\n",
       "        text-align: right;\n",
       "    }\n",
       "</style>\n",
       "<table border=\"1\" class=\"dataframe\">\n",
       "  <thead>\n",
       "    <tr style=\"text-align: right;\">\n",
       "      <th></th>\n",
       "      <th>claim_id</th>\n",
       "      <th>target</th>\n",
       "    </tr>\n",
       "  </thead>\n",
       "  <tbody>\n",
       "    <tr>\n",
       "      <th>0</th>\n",
       "      <td>ID_4RO0KZI9BBW2</td>\n",
       "      <td>87999.250456</td>\n",
       "    </tr>\n",
       "    <tr>\n",
       "      <th>1</th>\n",
       "      <td>ID_GTE9ZUJ9GZ97</td>\n",
       "      <td>9009.157407</td>\n",
       "    </tr>\n",
       "    <tr>\n",
       "      <th>2</th>\n",
       "      <td>ID_RUVIYRKWZ4RG</td>\n",
       "      <td>1593.837981</td>\n",
       "    </tr>\n",
       "    <tr>\n",
       "      <th>3</th>\n",
       "      <td>ID_J81X8SWU6JYN</td>\n",
       "      <td>3287.438154</td>\n",
       "    </tr>\n",
       "    <tr>\n",
       "      <th>4</th>\n",
       "      <td>ID_94NM3JJAWWOQ</td>\n",
       "      <td>389.137569</td>\n",
       "    </tr>\n",
       "    <tr>\n",
       "      <th>...</th>\n",
       "      <td>...</td>\n",
       "      <td>...</td>\n",
       "    </tr>\n",
       "    <tr>\n",
       "      <th>4014</th>\n",
       "      <td>ID_F08UFUIVVMR8</td>\n",
       "      <td>13229.578990</td>\n",
       "    </tr>\n",
       "    <tr>\n",
       "      <th>4015</th>\n",
       "      <td>ID_KODD3CK5SV0X</td>\n",
       "      <td>64.729259</td>\n",
       "    </tr>\n",
       "    <tr>\n",
       "      <th>4016</th>\n",
       "      <td>ID_59003DPSZQ16</td>\n",
       "      <td>112200.050843</td>\n",
       "    </tr>\n",
       "    <tr>\n",
       "      <th>4017</th>\n",
       "      <td>ID_B0C9XF5SIHGO</td>\n",
       "      <td>1963.096397</td>\n",
       "    </tr>\n",
       "    <tr>\n",
       "      <th>4018</th>\n",
       "      <td>ID_BDKZABZHDSZA</td>\n",
       "      <td>17491.607443</td>\n",
       "    </tr>\n",
       "  </tbody>\n",
       "</table>\n",
       "<p>4019 rows × 2 columns</p>\n",
       "</div>"
      ],
      "text/plain": [
       "             claim_id         target\n",
       "0     ID_4RO0KZI9BBW2   87999.250456\n",
       "1     ID_GTE9ZUJ9GZ97    9009.157407\n",
       "2     ID_RUVIYRKWZ4RG    1593.837981\n",
       "3     ID_J81X8SWU6JYN    3287.438154\n",
       "4     ID_94NM3JJAWWOQ     389.137569\n",
       "...               ...            ...\n",
       "4014  ID_F08UFUIVVMR8   13229.578990\n",
       "4015  ID_KODD3CK5SV0X      64.729259\n",
       "4016  ID_59003DPSZQ16  112200.050843\n",
       "4017  ID_B0C9XF5SIHGO    1963.096397\n",
       "4018  ID_BDKZABZHDSZA   17491.607443\n",
       "\n",
       "[4019 rows x 2 columns]"
      ]
     },
     "execution_count": 48,
     "metadata": {},
     "output_type": "execute_result"
    }
   ],
   "source": [
    "forest_test_pre=test_submit(forest_reg)\n",
    "forest_test_pre"
   ]
  },
  {
   "cell_type": "markdown",
   "id": "91077962",
   "metadata": {},
   "source": [
    "### Gradient Boosting"
   ]
  },
  {
   "cell_type": "code",
   "execution_count": 49,
   "id": "8e54df62",
   "metadata": {},
   "outputs": [
    {
     "data": {
      "text/plain": [
       "GradientBoostingRegressor(random_state=42)"
      ]
     },
     "execution_count": 49,
     "metadata": {},
     "output_type": "execute_result"
    }
   ],
   "source": [
    "grad_reg=GradientBoostingRegressor(random_state=42)\n",
    "grad_reg.fit(train,y)"
   ]
  },
  {
   "cell_type": "code",
   "execution_count": 50,
   "id": "121e47d5",
   "metadata": {
    "scrolled": true
   },
   "outputs": [
    {
     "name": "stdout",
     "output_type": "stream",
     "text": [
      "MAE of Estimator: 36997.7910\n",
      "MAE of Cross Validation Estimator: 37508.6922\n",
      "R2_Score: 0.01921481383269741\n"
     ]
    }
   ],
   "source": [
    "test_pre=score_evaluate(grad_reg,train,y)"
   ]
  },
  {
   "cell_type": "code",
   "execution_count": 51,
   "id": "60241231",
   "metadata": {},
   "outputs": [],
   "source": [
    "# Bayesian Optimization\n",
    "def model_optimize(max_depth,min_samples_split,min_samples_leaf,max_leaf_nodes):\n",
    "    penalty=['l2','l1','elasticnet'];\n",
    "    grad_reg_1=GradientBoostingRegressor(random_state=42,max_depth=round(max_depth),max_leaf_nodes=round(max_leaf_nodes),min_samples_leaf=round(min_samples_leaf),n_estimators=300,min_samples_split=round(min_samples_split))\n",
    "    grad_pre=cross_val_predict(grad_reg_1,train,y,cv=5)\n",
    "    score=-mean_absolute_error(y_train,pow_trf_1.inverse_transform(grad_pre.reshape(-1,1))-1)\n",
    "    return score"
   ]
  },
  {
   "cell_type": "code",
   "execution_count": 52,
   "id": "23e891fd",
   "metadata": {},
   "outputs": [
    {
     "data": {
      "text/plain": [
       "{'max_leaf_nodes': (2, 100),\n",
       " 'min_samples_leaf': (2, 50),\n",
       " 'max_depth': (2, 20),\n",
       " 'min_samples_split': [2, 50]}"
      ]
     },
     "execution_count": 52,
     "metadata": {},
     "output_type": "execute_result"
    }
   ],
   "source": [
    "params_nn=dict(max_leaf_nodes=(2,100),min_samples_leaf=(2,50),max_depth=(2,20),min_samples_split=[2,50])\n",
    "params_nn"
   ]
  },
  {
   "cell_type": "code",
   "execution_count": 53,
   "id": "a6a19e75",
   "metadata": {},
   "outputs": [
    {
     "name": "stdout",
     "output_type": "stream",
     "text": [
      "|   iter    |  target   | max_depth | max_le... | min_sa... | min_sa... |\n",
      "-------------------------------------------------------------------------\n",
      "| \u001b[95m 2       \u001b[0m | \u001b[95m-3.678e+0\u001b[0m | \u001b[95m 4.808   \u001b[0m | \u001b[95m 17.29   \u001b[0m | \u001b[95m 4.788   \u001b[0m | \u001b[95m 43.58   \u001b[0m |\n",
      "| \u001b[95m 4       \u001b[0m | \u001b[95m-3.654e+0\u001b[0m | \u001b[95m 16.98   \u001b[0m | \u001b[95m 22.81   \u001b[0m | \u001b[95m 10.73   \u001b[0m | \u001b[95m 10.8    \u001b[0m |\n",
      "| \u001b[95m 11      \u001b[0m | \u001b[95m-3.635e+0\u001b[0m | \u001b[95m 4.197   \u001b[0m | \u001b[95m 50.53   \u001b[0m | \u001b[95m 3.651   \u001b[0m | \u001b[95m 45.65   \u001b[0m |\n",
      "=========================================================================\n",
      "Iteration 0: \n",
      "\t{'target': -37113.309256186774, 'params': {'max_depth': 8.741722139252525, 'max_leaf_nodes': 95.17000202817178, 'min_samples_leaf': 37.135709206947446, 'min_samples_split': 30.735607241457757}}\n",
      "Iteration 1: \n",
      "\t{'target': -36780.034073807576, 'params': {'max_depth': 4.808335527963857, 'max_leaf_nodes': 17.28746299294786, 'min_samples_leaf': 4.788013384073574, 'min_samples_split': 43.57645499719689}}\n",
      "Iteration 2: \n",
      "\t{'target': -36990.19518641179, 'params': {'max_depth': 12.82007021137776, 'max_leaf_nodes': 71.39111262401246, 'min_samples_leaf': 2.9880557261985174, 'min_samples_split': 48.55567290377573}}\n",
      "Iteration 3: \n",
      "\t{'target': -36536.3985177471, 'params': {'max_depth': 16.98396753440759, 'max_leaf_nodes': 22.809232846471062, 'min_samples_leaf': 10.72759842594083, 'min_samples_split': 10.803416472964823}}\n",
      "Iteration 4: \n",
      "\t{'target': -37165.62264367245, 'params': {'max_depth': 7.476360373271679, 'max_leaf_nodes': 53.42613029995931, 'min_samples_leaf': 22.73336089482156, 'min_samples_split': 15.978998729506012}}\n",
      "Iteration 5: \n",
      "\t{'target': -36928.204284695305, 'params': {'max_depth': 13.01335210500283, 'max_leaf_nodes': 15.6703983439001, 'min_samples_leaf': 16.02294312969047, 'min_samples_split': 19.5853684780972}}\n",
      "Iteration 6: \n",
      "\t{'target': -36961.853807545434, 'params': {'max_depth': 10.209259715906647, 'max_leaf_nodes': 78.94724421651533, 'min_samples_leaf': 11.584341543601267, 'min_samples_split': 26.683253043853355}}\n",
      "Iteration 7: \n",
      "\t{'target': -36943.884724097596, 'params': {'max_depth': 12.663462239516765, 'max_leaf_nodes': 6.552140446559777, 'min_samples_leaf': 31.16215289126904, 'min_samples_split': 10.185157936989993}}\n",
      "Iteration 8: \n",
      "\t{'target': -36988.54949003485, 'params': {'max_depth': 3.1709286737350313, 'max_leaf_nodes': 94.99078265082666, 'min_samples_leaf': 48.35033758757885, 'min_samples_split': 40.80307270959013}}\n",
      "Iteration 9: \n",
      "\t{'target': -36923.4674913509, 'params': {'max_depth': 7.483047845120672, 'max_leaf_nodes': 11.57186717262562, 'min_samples_leaf': 34.84318527258353, 'min_samples_split': 23.127319699500863}}\n",
      "Iteration 10: \n",
      "\t{'target': -36351.020962146606, 'params': {'max_depth': 4.196688227206019, 'max_leaf_nodes': 50.527337190904476, 'min_samples_leaf': 3.650649013530483, 'min_samples_split': 45.64737929978154}}\n",
      "Iteration 11: \n",
      "\t{'target': -37140.49400977522, 'params': {'max_depth': 6.6580396688003045, 'max_leaf_nodes': 66.92718386669023, 'min_samples_leaf': 16.962131652291724, 'min_samples_split': 26.96326501653492}}\n",
      "Iteration 12: \n",
      "\t{'target': -37057.526835088334, 'params': {'max_depth': 11.840785028179035, 'max_leaf_nodes': 20.11573664150165, 'min_samples_leaf': 48.54006213269881, 'min_samples_split': 39.2063755213335}}\n",
      "Iteration 13: \n",
      "\t{'target': -37568.44264020358, 'params': {'max_depth': 18.910980948155405, 'max_leaf_nodes': 89.69308034190958, 'min_samples_leaf': 30.69919898293209, 'min_samples_split': 46.24996328110961}}\n",
      "Iteration 14: \n",
      "\t{'target': -36358.633557669746, 'params': {'max_depth': 3.592865036934551, 'max_leaf_nodes': 21.20632051707623, 'min_samples_leaf': 4.170909867705827, 'min_samples_split': 17.615855876636687}}\n",
      "Iteration 15: \n",
      "\t{'target': -36904.62559056167, 'params': {'max_depth': 2.7376344770000975, 'max_leaf_nodes': 37.58242428938485, 'min_samples_leaf': 2.0, 'min_samples_split': 32.23025024675303}}\n",
      "Iteration 16: \n",
      "\t{'target': -37322.4383936049, 'params': {'max_depth': 2.885935063881541, 'max_leaf_nodes': 3.8113536012961924, 'min_samples_leaf': 30.82427519867511, 'min_samples_split': 36.74369346533382}}\n",
      "Iteration 17: \n",
      "\t{'target': -36790.171696702295, 'params': {'max_depth': 16.354131548706818, 'max_leaf_nodes': 21.150530494334248, 'min_samples_leaf': 11.777434722873044, 'min_samples_split': 10.689459201205496}}\n",
      "Iteration 18: \n",
      "\t{'target': -36475.880923144716, 'params': {'max_depth': 4.1807377854577465, 'max_leaf_nodes': 51.2732871017122, 'min_samples_leaf': 3.906381871024861, 'min_samples_split': 43.847087876550795}}\n",
      "{'target': -36351.020962146606, 'params': {'max_depth': 4.196688227206019, 'max_leaf_nodes': 50.527337190904476, 'min_samples_leaf': 3.650649013530483, 'min_samples_split': 45.64737929978154}}\n"
     ]
    }
   ],
   "source": [
    "# Fitting Bayesian Optimization\n",
    "nn_bo=BayesianOptimization(f=model_optimize,pbounds=params_nn,random_state=42,verbose=1)\n",
    "nn_bo.maximize(init_points=15,n_iter=4)\n",
    "for i,res in enumerate(nn_bo.res):\n",
    "    print('Iteration {}: \\n\\t{}'.format(i,res))\n",
    "print(nn_bo.max)"
   ]
  },
  {
   "cell_type": "code",
   "execution_count": 54,
   "id": "df18fb18",
   "metadata": {},
   "outputs": [
    {
     "data": {
      "text/plain": [
       "GradientBoostingRegressor(max_depth=4, max_leaf_nodes=51, min_samples_leaf=46,\n",
       "                          min_samples_split=45, n_estimators=300,\n",
       "                          random_state=42)"
      ]
     },
     "execution_count": 54,
     "metadata": {},
     "output_type": "execute_result"
    }
   ],
   "source": [
    "grad_reg=GradientBoostingRegressor(random_state=42,max_depth=4,min_samples_split=46,min_samples_leaf=4,max_leaf_nodes=51,n_estimators=300)\n",
    "grad_reg.fit(train,y)"
   ]
  },
  {
   "cell_type": "code",
   "execution_count": 55,
   "id": "340e7248",
   "metadata": {},
   "outputs": [
    {
     "name": "stdout",
     "output_type": "stream",
     "text": [
      "MAE of Estimator: 35513.7250\n",
      "MAE of Cross Validation Estimator: 37113.6726\n",
      "R2_Score: 0.03754529060968781\n"
     ]
    }
   ],
   "source": [
    "# Bayesian Tuned Scores\n",
    "test_pre=score_evaluate(grad_reg,train,y)"
   ]
  },
  {
   "cell_type": "code",
   "execution_count": 56,
   "id": "10ed856f",
   "metadata": {},
   "outputs": [
    {
     "data": {
      "text/html": [
       "<div>\n",
       "<style scoped>\n",
       "    .dataframe tbody tr th:only-of-type {\n",
       "        vertical-align: middle;\n",
       "    }\n",
       "\n",
       "    .dataframe tbody tr th {\n",
       "        vertical-align: top;\n",
       "    }\n",
       "\n",
       "    .dataframe thead th {\n",
       "        text-align: right;\n",
       "    }\n",
       "</style>\n",
       "<table border=\"1\" class=\"dataframe\">\n",
       "  <thead>\n",
       "    <tr style=\"text-align: right;\">\n",
       "      <th></th>\n",
       "      <th>claim_id</th>\n",
       "      <th>target</th>\n",
       "    </tr>\n",
       "  </thead>\n",
       "  <tbody>\n",
       "    <tr>\n",
       "      <th>0</th>\n",
       "      <td>ID_4RO0KZI9BBW2</td>\n",
       "      <td>105395.758919</td>\n",
       "    </tr>\n",
       "    <tr>\n",
       "      <th>1</th>\n",
       "      <td>ID_GTE9ZUJ9GZ97</td>\n",
       "      <td>10016.004786</td>\n",
       "    </tr>\n",
       "    <tr>\n",
       "      <th>2</th>\n",
       "      <td>ID_RUVIYRKWZ4RG</td>\n",
       "      <td>834.352019</td>\n",
       "    </tr>\n",
       "    <tr>\n",
       "      <th>3</th>\n",
       "      <td>ID_J81X8SWU6JYN</td>\n",
       "      <td>913.503122</td>\n",
       "    </tr>\n",
       "    <tr>\n",
       "      <th>4</th>\n",
       "      <td>ID_94NM3JJAWWOQ</td>\n",
       "      <td>4567.678287</td>\n",
       "    </tr>\n",
       "    <tr>\n",
       "      <th>...</th>\n",
       "      <td>...</td>\n",
       "      <td>...</td>\n",
       "    </tr>\n",
       "    <tr>\n",
       "      <th>4014</th>\n",
       "      <td>ID_F08UFUIVVMR8</td>\n",
       "      <td>18839.929341</td>\n",
       "    </tr>\n",
       "    <tr>\n",
       "      <th>4015</th>\n",
       "      <td>ID_KODD3CK5SV0X</td>\n",
       "      <td>468.150789</td>\n",
       "    </tr>\n",
       "    <tr>\n",
       "      <th>4016</th>\n",
       "      <td>ID_59003DPSZQ16</td>\n",
       "      <td>42831.689317</td>\n",
       "    </tr>\n",
       "    <tr>\n",
       "      <th>4017</th>\n",
       "      <td>ID_B0C9XF5SIHGO</td>\n",
       "      <td>11432.325688</td>\n",
       "    </tr>\n",
       "    <tr>\n",
       "      <th>4018</th>\n",
       "      <td>ID_BDKZABZHDSZA</td>\n",
       "      <td>6465.597375</td>\n",
       "    </tr>\n",
       "  </tbody>\n",
       "</table>\n",
       "<p>4019 rows × 2 columns</p>\n",
       "</div>"
      ],
      "text/plain": [
       "             claim_id         target\n",
       "0     ID_4RO0KZI9BBW2  105395.758919\n",
       "1     ID_GTE9ZUJ9GZ97   10016.004786\n",
       "2     ID_RUVIYRKWZ4RG     834.352019\n",
       "3     ID_J81X8SWU6JYN     913.503122\n",
       "4     ID_94NM3JJAWWOQ    4567.678287\n",
       "...               ...            ...\n",
       "4014  ID_F08UFUIVVMR8   18839.929341\n",
       "4015  ID_KODD3CK5SV0X     468.150789\n",
       "4016  ID_59003DPSZQ16   42831.689317\n",
       "4017  ID_B0C9XF5SIHGO   11432.325688\n",
       "4018  ID_BDKZABZHDSZA    6465.597375\n",
       "\n",
       "[4019 rows x 2 columns]"
      ]
     },
     "execution_count": 56,
     "metadata": {},
     "output_type": "execute_result"
    }
   ],
   "source": [
    "grad_test_pre=test_submit(grad_reg)\n",
    "grad_test_pre"
   ]
  },
  {
   "cell_type": "code",
   "execution_count": 57,
   "id": "e82f37f5",
   "metadata": {},
   "outputs": [
    {
     "data": {
      "text/plain": [
       "<AxesSubplot:>"
      ]
     },
     "execution_count": 57,
     "metadata": {},
     "output_type": "execute_result"
    },
    {
     "data": {
      "text/plain": [
       "<Figure size 1440x1440 with 0 Axes>"
      ]
     },
     "metadata": {},
     "output_type": "display_data"
    },
    {
     "data": {
      "image/png": "[encoded data removed]",
      "text/plain": [
       "<Figure size 432x288 with 1 Axes>"
      ]
     },
     "metadata": {},
     "output_type": "display_data"
    }
   ],
   "source": [
    "grad_feature_plot=Feature_importance(grad_reg.feature_importances_)\n",
    "plt.figure(figsize=(20,20))\n",
    "grad_feature_plot.plot(kind='barh')"
   ]
  },
  {
   "cell_type": "markdown",
   "id": "fbb49bd2",
   "metadata": {},
   "source": [
    "### XGBOOST"
   ]
  },
  {
   "cell_type": "code",
   "execution_count": 58,
   "id": "6ebbc26a",
   "metadata": {},
   "outputs": [
    {
     "data": {
      "text/plain": [
       "XGBRegressor(base_score=None, booster=None, colsample_bylevel=None,\n",
       "             colsample_bynode=None, colsample_bytree=None,\n",
       "             enable_categorical=False, gamma=None, gpu_id=None,\n",
       "             importance_type=None, interaction_constraints=None,\n",
       "             learning_rate=0.1, max_delta_step=None, max_depth=None,\n",
       "             min_child_weight=None, missing=nan, monotone_constraints=None,\n",
       "             n_estimators=100, n_jobs=None, nthread=4, num_parallel_tree=None,\n",
       "             objective='reg:linear', predictor=None, random_state=42,\n",
       "             reg_alpha=None, reg_lambda=None, scale_pos_weight=1,\n",
       "             subsample=None, tree_method=None, validate_parameters=None,\n",
       "             verbosity=0)"
      ]
     },
     "execution_count": 58,
     "metadata": {},
     "output_type": "execute_result"
    }
   ],
   "source": [
    "xgb_reg=XGBRegressor(verbosity=0,random_state=42,learning_rate =0.1,n_estimators=100,objective= 'reg:linear',nthread=4,scale_pos_weight=1)\n",
    "xgb_reg"
   ]
  },
  {
   "cell_type": "code",
   "execution_count": 59,
   "id": "71d74180",
   "metadata": {},
   "outputs": [
    {
     "name": "stdout",
     "output_type": "stream",
     "text": [
      "MAE of Estimator: 33193.2141\n",
      "MAE of Cross Validation Estimator: 36432.6201\n",
      "R2_Score: 0.09344527156466464\n"
     ]
    }
   ],
   "source": [
    "xgb_1=score_evaluate(xgb_reg,train,y)"
   ]
  },
  {
   "cell_type": "code",
   "execution_count": 60,
   "id": "46d93312",
   "metadata": {},
   "outputs": [],
   "source": [
    "# Bayesian Optimizaion\n",
    "def model_optimize(max_depth,min_child_weight,gamma,subsample,colsample_bytree):\n",
    "    loss_list=['epsilon_insensitive','squared_epsilon_insensitive']\n",
    "    lr=['adaptive','invscaling','constant','optimal']\n",
    "    xgb_reg_1=XGBRegressor(verbosity=0,random_state=42,learning_rate =0.1,max_depth=round(max_depth),min_child_weight=round(min_child_weight),subsample=subsample,colsample_bytree=colsample_bytree,n_estimators=200,objective= 'reg:linear',nthread=4,scale_pos_weight=1)\n",
    "    xgb_pre=cross_val_predict(xgb_reg_1,train,y,cv=5)\n",
    "    score=mean_absolute_error(y_train,pow_trf_1.inverse_transform(xgb_pre.reshape(-1,1))-1)\n",
    "    return -score"
   ]
  },
  {
   "cell_type": "code",
   "execution_count": 61,
   "id": "aab441a5",
   "metadata": {},
   "outputs": [
    {
     "data": {
      "text/plain": [
       "{'max_depth': (1, 20),\n",
       " 'min_child_weight': (1, 10),\n",
       " 'gamma': (0, 0.5),\n",
       " 'subsample': (0.1, 0.9),\n",
       " 'colsample_bytree': (0.1, 0.9)}"
      ]
     },
     "execution_count": 61,
     "metadata": {},
     "output_type": "execute_result"
    }
   ],
   "source": [
    "params_nn=dict(max_depth=(1,20),min_child_weight=(1,10),gamma=(0,0.5),subsample=(0.1,0.9),colsample_bytree=(0.1,0.9))\n",
    "params_nn"
   ]
  },
  {
   "cell_type": "code",
   "execution_count": 62,
   "id": "11da421f",
   "metadata": {},
   "outputs": [
    {
     "name": "stdout",
     "output_type": "stream",
     "text": [
      "|   iter    |  target   | colsam... |   gamma   | max_depth | min_ch... | subsample |\n",
      "-------------------------------------------------------------------------------------\n",
      "| \u001b[95m 2       \u001b[0m | \u001b[95m-3.634e+0\u001b[0m | \u001b[95m 0.2248  \u001b[0m | \u001b[95m 0.02904 \u001b[0m | \u001b[95m 17.46   \u001b[0m | \u001b[95m 6.41    \u001b[0m | \u001b[95m 0.6665  \u001b[0m |\n",
      "=====================================================================================\n",
      "Iteration 0: \n",
      "\t{'target': -37007.763487838434, 'params': {'colsample_bytree': 0.39963209507789, 'gamma': 0.4753571532049581, 'max_depth': 14.907884894416696, 'min_child_weight': 6.387926357773329, 'subsample': 0.22481491235394924}}\n",
      "Iteration 1: \n",
      "\t{'target': -36337.47368906785, 'params': {'colsample_bytree': 0.22479561626896213, 'gamma': 0.02904180608409973, 'max_depth': 17.457346769723767, 'min_child_weight': 6.41003510568888, 'subsample': 0.6664580622368363}}\n",
      "Iteration 2: \n",
      "\t{'target': -38055.93399653129, 'params': {'colsample_bytree': 0.11646759543664197, 'gamma': 0.48495492608099716, 'max_depth': 16.816410175208013, 'min_child_weight': 2.9110519961044856, 'subsample': 0.24545997376568052}}\n",
      "Iteration 3: \n",
      "\t{'target': -36857.11266620363, 'params': {'colsample_bytree': 0.24672360788274705, 'gamma': 0.15212112147976886, 'max_depth': 10.97037220101252, 'min_child_weight': 4.887505167779041, 'subsample': 0.3329833121584336}}\n",
      "Iteration 4: \n",
      "\t{'target': -36400.718882999674, 'params': {'colsample_bytree': 0.5894823157779036, 'gamma': 0.06974693032602092, 'max_depth': 6.550748322169145, 'min_child_weight': 4.297256589643226, 'subsample': 0.46485598737362877}}\n",
      "Iteration 5: \n",
      "\t{'target': -38165.56571775758, 'params': {'colsample_bytree': 0.728140769114411, 'gamma': 0.09983689107917987, 'max_depth': 10.770454329858621, 'min_child_weight': 6.331731119758382, 'subsample': 0.13716033017599819}}\n",
      "Iteration 6: \n",
      "\t{'target': -37905.76593839603, 'params': {'colsample_bytree': 0.5860358815211507, 'gamma': 0.08526206184364576, 'max_depth': 2.235980266720311, 'min_child_weight': 9.539969835279999, 'subsample': 0.8725056264596475}}\n",
      "Iteration 7: \n",
      "\t{'target': -37180.67707698599, 'params': {'colsample_bytree': 0.746717878493169, 'gamma': 0.15230688458668534, 'max_depth': 2.8557701661212933, 'min_child_weight': 7.158097238609412, 'subsample': 0.45212199499168104}}\n",
      "Iteration 8: \n",
      "\t{'target': -38927.410419631706, 'params': {'colsample_bytree': 0.19763058787582308, 'gamma': 0.2475884550556351, 'max_depth': 1.6533819011891495, 'min_child_weight': 9.18388361870904, 'subsample': 0.3070239852800135}}\n",
      "Iteration 9: \n",
      "\t{'target': -37265.12859861981, 'params': {'colsample_bytree': 0.6300178274831856, 'gamma': 0.15585553804470548, 'max_depth': 10.881292402378406, 'min_child_weight': 5.920392514089517, 'subsample': 0.24788356442042164}}\n",
      "Iteration 10: \n",
      "\t{'target': -37612.7529807556, 'params': {'colsample_bytree': 0.8756677022116469, 'gamma': 0.3875664116805573, 'max_depth': 18.850479889719594, 'min_child_weight': 9.053446153848839, 'subsample': 0.5783199830488681}}\n",
      "Iteration 11: \n",
      "\t{'target': -36726.52681164477, 'params': {'colsample_bytree': 0.8374993880184934, 'gamma': 0.04424625102595975, 'max_depth': 4.723674385963759, 'min_child_weight': 1.4070456001948426, 'subsample': 0.36026426461061145}}\n",
      "Iteration 12: \n",
      "\t{'target': -37459.498409393935, 'params': {'colsample_bytree': 0.4109418317515856, 'gamma': 0.13567451588694796, 'max_depth': 16.746012673886657, 'min_child_weight': 4.210779940242304, 'subsample': 0.32474760774990463}}\n",
      "Iteration 13: \n",
      "\t{'target': -37561.22165709983, 'params': {'colsample_bytree': 0.5341568665265988, 'gamma': 0.07046211248738132, 'max_depth': 16.241742634326755, 'min_child_weight': 1.6709557931179373, 'subsample': 0.8895095492804138}}\n",
      "Iteration 14: \n",
      "\t{'target': -39042.53261898763, 'params': {'colsample_bytree': 0.717795815437326, 'gamma': 0.0993578407670862, 'max_depth': 1.1049202253484456, 'min_child_weight': 8.339152856093508, 'subsample': 0.6654858750780936}}\n",
      "Iteration 15: \n",
      "\t{'target': -36340.60164937579, 'params': {'colsample_bytree': 0.2920072013149786, 'gamma': 0.1783923157292902, 'max_depth': 16.545160198708167, 'min_child_weight': 6.3938076094339635, 'subsample': 0.5094938058223006}}\n",
      "Iteration 16: \n",
      "\t{'target': -38016.7967980355, 'params': {'colsample_bytree': 0.1, 'gamma': 0.0, 'max_depth': 16.857676139461905, 'min_child_weight': 7.376976482468779, 'subsample': 0.9}}\n",
      "Iteration 17: \n",
      "\t{'target': -37281.01410236289, 'params': {'colsample_bytree': 0.45613635718235146, 'gamma': 0.26111066666565436, 'max_depth': 17.119489327363723, 'min_child_weight': 5.855316380743893, 'subsample': 0.20289347532603788}}\n",
      "Iteration 18: \n",
      "\t{'target': -37524.65623699056, 'params': {'colsample_bytree': 0.4748722159616924, 'gamma': 0.49650870814658593, 'max_depth': 18.515371826530245, 'min_child_weight': 4.886345892781174, 'subsample': 0.3524189415612501}}\n",
      "{'target': -36337.47368906785, 'params': {'colsample_bytree': 0.22479561626896213, 'gamma': 0.02904180608409973, 'max_depth': 17.457346769723767, 'min_child_weight': 6.41003510568888, 'subsample': 0.6664580622368363}}\n"
     ]
    }
   ],
   "source": [
    "# Fitting Bayesian Optimization\n",
    "nn_bo=BayesianOptimization(f=model_optimize,pbounds=params_nn,random_state=42,verbose=1)\n",
    "nn_bo.maximize(init_points=15,n_iter=4)\n",
    "for i,res in enumerate(nn_bo.res):\n",
    "    print('Iteration {}: \\n\\t{}'.format(i,res))\n",
    "print(nn_bo.max)"
   ]
  },
  {
   "cell_type": "code",
   "execution_count": 64,
   "id": "1d0c547b",
   "metadata": {},
   "outputs": [
    {
     "data": {
      "text/plain": [
       "XGBRegressor(base_score=0.5, booster='gbtree', colsample_bylevel=1,\n",
       "             colsample_bynode=1, colsample_bytree=0.225,\n",
       "             enable_categorical=False, gamma=0.03, gpu_id=-1,\n",
       "             importance_type=None, interaction_constraints='',\n",
       "             learning_rate=0.1, max_delta_step=0, max_depth=17,\n",
       "             min_child_weight=6, missing=nan, monotone_constraints='()',\n",
       "             n_estimators=100, n_jobs=4, nthread=4, num_parallel_tree=1,\n",
       "             objective='reg:linear', predictor='auto', random_state=42,\n",
       "             reg_alpha=0, reg_lambda=1, scale_pos_weight=1, subsample=0.666,\n",
       "             tree_method='exact', validate_parameters=1, verbosity=0)"
      ]
     },
     "execution_count": 64,
     "metadata": {},
     "output_type": "execute_result"
    }
   ],
   "source": [
    "xgb_reg=XGBRegressor(verbosity=0,random_state=42,learning_rate =0.1,gamma=0.03,max_depth=17,min_child_weight=6,subsample=0.666,colsample_bytree=0.225,n_estimators=100,objective= 'reg:linear',nthread=4,scale_pos_weight=1)\n",
    "xgb_reg.fit(train,y)"
   ]
  },
  {
   "cell_type": "code",
   "execution_count": 65,
   "id": "33233855",
   "metadata": {},
   "outputs": [
    {
     "name": "stdout",
     "output_type": "stream",
     "text": [
      "MAE of Estimator: 33757.5520\n",
      "MAE of Cross Validation Estimator: 37457.6290\n",
      "R2_Score: 0.04225430069539937\n"
     ]
    }
   ],
   "source": [
    "test_pre=score_evaluate(xgb_reg,train,y)"
   ]
  },
  {
   "cell_type": "code",
   "execution_count": 68,
   "id": "dee7082b",
   "metadata": {},
   "outputs": [
    {
     "data": {
      "text/html": [
       "<div>\n",
       "<style scoped>\n",
       "    .dataframe tbody tr th:only-of-type {\n",
       "        vertical-align: middle;\n",
       "    }\n",
       "\n",
       "    .dataframe tbody tr th {\n",
       "        vertical-align: top;\n",
       "    }\n",
       "\n",
       "    .dataframe thead th {\n",
       "        text-align: right;\n",
       "    }\n",
       "</style>\n",
       "<table border=\"1\" class=\"dataframe\">\n",
       "  <thead>\n",
       "    <tr style=\"text-align: right;\">\n",
       "      <th></th>\n",
       "      <th>claim_id</th>\n",
       "      <th>target</th>\n",
       "    </tr>\n",
       "  </thead>\n",
       "  <tbody>\n",
       "    <tr>\n",
       "      <th>0</th>\n",
       "      <td>ID_4RO0KZI9BBW2</td>\n",
       "      <td>58777.550781</td>\n",
       "    </tr>\n",
       "    <tr>\n",
       "      <th>1</th>\n",
       "      <td>ID_GTE9ZUJ9GZ97</td>\n",
       "      <td>15076.403320</td>\n",
       "    </tr>\n",
       "    <tr>\n",
       "      <th>2</th>\n",
       "      <td>ID_RUVIYRKWZ4RG</td>\n",
       "      <td>1139.287109</td>\n",
       "    </tr>\n",
       "    <tr>\n",
       "      <th>3</th>\n",
       "      <td>ID_J81X8SWU6JYN</td>\n",
       "      <td>1792.190186</td>\n",
       "    </tr>\n",
       "    <tr>\n",
       "      <th>4</th>\n",
       "      <td>ID_94NM3JJAWWOQ</td>\n",
       "      <td>8727.019531</td>\n",
       "    </tr>\n",
       "    <tr>\n",
       "      <th>...</th>\n",
       "      <td>...</td>\n",
       "      <td>...</td>\n",
       "    </tr>\n",
       "    <tr>\n",
       "      <th>4014</th>\n",
       "      <td>ID_F08UFUIVVMR8</td>\n",
       "      <td>22194.062500</td>\n",
       "    </tr>\n",
       "    <tr>\n",
       "      <th>4015</th>\n",
       "      <td>ID_KODD3CK5SV0X</td>\n",
       "      <td>570.751831</td>\n",
       "    </tr>\n",
       "    <tr>\n",
       "      <th>4016</th>\n",
       "      <td>ID_59003DPSZQ16</td>\n",
       "      <td>20959.710938</td>\n",
       "    </tr>\n",
       "    <tr>\n",
       "      <th>4017</th>\n",
       "      <td>ID_B0C9XF5SIHGO</td>\n",
       "      <td>6438.669922</td>\n",
       "    </tr>\n",
       "    <tr>\n",
       "      <th>4018</th>\n",
       "      <td>ID_BDKZABZHDSZA</td>\n",
       "      <td>2158.853027</td>\n",
       "    </tr>\n",
       "  </tbody>\n",
       "</table>\n",
       "<p>4019 rows × 2 columns</p>\n",
       "</div>"
      ],
      "text/plain": [
       "             claim_id        target\n",
       "0     ID_4RO0KZI9BBW2  58777.550781\n",
       "1     ID_GTE9ZUJ9GZ97  15076.403320\n",
       "2     ID_RUVIYRKWZ4RG   1139.287109\n",
       "3     ID_J81X8SWU6JYN   1792.190186\n",
       "4     ID_94NM3JJAWWOQ   8727.019531\n",
       "...               ...           ...\n",
       "4014  ID_F08UFUIVVMR8  22194.062500\n",
       "4015  ID_KODD3CK5SV0X    570.751831\n",
       "4016  ID_59003DPSZQ16  20959.710938\n",
       "4017  ID_B0C9XF5SIHGO   6438.669922\n",
       "4018  ID_BDKZABZHDSZA   2158.853027\n",
       "\n",
       "[4019 rows x 2 columns]"
      ]
     },
     "execution_count": 68,
     "metadata": {},
     "output_type": "execute_result"
    }
   ],
   "source": [
    "xgb_test_pre=test_submit(xgb_reg)\n",
    "xgb_test_pre"
   ]
  },
  {
   "cell_type": "code",
   "execution_count": 69,
   "id": "e7781933",
   "metadata": {},
   "outputs": [],
   "source": [
    "## Combining the Three Predictions "
   ]
  },
  {
   "cell_type": "code",
   "execution_count": 70,
   "id": "d70acbf6",
   "metadata": {},
   "outputs": [],
   "source": [
    "a=forest_test_pre.target.values\n",
    "b=grad_test_pre.target.values\n",
    "c=xgb_test_pre.target.values"
   ]
  },
  {
   "cell_type": "code",
   "execution_count": 71,
   "id": "e0ea1513",
   "metadata": {},
   "outputs": [],
   "source": [
    "test_pre=(a+b+c)/3"
   ]
  },
  {
   "cell_type": "code",
   "execution_count": 72,
   "id": "655daac1",
   "metadata": {},
   "outputs": [
    {
     "data": {
      "text/html": [
       "<div>\n",
       "<style scoped>\n",
       "    .dataframe tbody tr th:only-of-type {\n",
       "        vertical-align: middle;\n",
       "    }\n",
       "\n",
       "    .dataframe tbody tr th {\n",
       "        vertical-align: top;\n",
       "    }\n",
       "\n",
       "    .dataframe thead th {\n",
       "        text-align: right;\n",
       "    }\n",
       "</style>\n",
       "<table border=\"1\" class=\"dataframe\">\n",
       "  <thead>\n",
       "    <tr style=\"text-align: right;\">\n",
       "      <th></th>\n",
       "      <th>claim_id</th>\n",
       "      <th>target</th>\n",
       "    </tr>\n",
       "  </thead>\n",
       "  <tbody>\n",
       "    <tr>\n",
       "      <th>0</th>\n",
       "      <td>ID_4RO0KZI9BBW2</td>\n",
       "      <td>84057.520052</td>\n",
       "    </tr>\n",
       "    <tr>\n",
       "      <th>1</th>\n",
       "      <td>ID_GTE9ZUJ9GZ97</td>\n",
       "      <td>11367.188505</td>\n",
       "    </tr>\n",
       "    <tr>\n",
       "      <th>2</th>\n",
       "      <td>ID_RUVIYRKWZ4RG</td>\n",
       "      <td>1189.159037</td>\n",
       "    </tr>\n",
       "    <tr>\n",
       "      <th>3</th>\n",
       "      <td>ID_J81X8SWU6JYN</td>\n",
       "      <td>1997.710487</td>\n",
       "    </tr>\n",
       "    <tr>\n",
       "      <th>4</th>\n",
       "      <td>ID_94NM3JJAWWOQ</td>\n",
       "      <td>4561.278463</td>\n",
       "    </tr>\n",
       "  </tbody>\n",
       "</table>\n",
       "</div>"
      ],
      "text/plain": [
       "          claim_id        target\n",
       "0  ID_4RO0KZI9BBW2  84057.520052\n",
       "1  ID_GTE9ZUJ9GZ97  11367.188505\n",
       "2  ID_RUVIYRKWZ4RG   1189.159037\n",
       "3  ID_J81X8SWU6JYN   1997.710487\n",
       "4  ID_94NM3JJAWWOQ   4561.278463"
      ]
     },
     "execution_count": 72,
     "metadata": {},
     "output_type": "execute_result"
    }
   ],
   "source": [
    "# Building Submission File\n",
    "sub_file=pd.DataFrame()\n",
    "sub_file['claim_id']=test_id\n",
    "sub_file['target']=test_pre\n",
    "sub_file.head(5)"
   ]
  },
  {
   "cell_type": "code",
   "execution_count": 73,
   "id": "eaaeb8d5",
   "metadata": {},
   "outputs": [],
   "source": [
    "submission(sub_file,'3_Combined_Pred.csv')"
   ]
  }
 ],
 "metadata": {
  "kernelspec": {
   "display_name": "Python 3 (ipykernel)",
   "language": "python",
   "name": "python3"
  },
  "language_info": {
   "codemirror_mode": {
    "name": "ipython",
    "version": 3
   },
   "file_extension": ".py",
   "mimetype": "text/x-python",
   "name": "python",
   "nbconvert_exporter": "python",
   "pygments_lexer": "ipython3",
   "version": "3.9.7"
  }
 },
 "nbformat": 4,
 "nbformat_minor": 5
}
